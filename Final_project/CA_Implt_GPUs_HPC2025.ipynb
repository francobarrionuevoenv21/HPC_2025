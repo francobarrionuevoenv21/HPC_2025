{
  "nbformat": 4,
  "nbformat_minor": 0,
  "metadata": {
    "colab": {
      "provenance": [],
      "gpuType": "T4",
      "include_colab_link": true
    },
    "kernelspec": {
      "name": "python3",
      "display_name": "Python 3"
    },
    "language_info": {
      "name": "python"
    },
    "accelerator": "GPU"
  },
  "cells": [
    {
      "cell_type": "markdown",
      "metadata": {
        "id": "view-in-github",
        "colab_type": "text"
      },
      "source": [
        "<a href=\"https://colab.research.google.com/github/francobarrionuevoenv21/HPC_2025/blob/main/CA_Implt_GPUs_HPC2025.ipynb\" target=\"_parent\"><img src=\"https://colab.research.google.com/assets/colab-badge.svg\" alt=\"Open In Colab\"/></a>"
      ]
    },
    {
      "cell_type": "code",
      "source": [
        "!pip install pycuda"
      ],
      "metadata": {
        "colab": {
          "base_uri": "https://localhost:8080/"
        },
        "id": "JXybQY85qQ6f",
        "outputId": "8a2a2c51-f961-4aae-e83f-94e45fb60244"
      },
      "execution_count": 1,
      "outputs": [
        {
          "output_type": "stream",
          "name": "stdout",
          "text": [
            "Collecting pycuda\n",
            "  Downloading pycuda-2025.1.2.tar.gz (1.7 MB)\n",
            "\u001b[?25l     \u001b[90m━━━━━━━━━━━━━━━━━━━━━━━━━━━━━━━━━━━━━━━━\u001b[0m \u001b[32m0.0/1.7 MB\u001b[0m \u001b[31m?\u001b[0m eta \u001b[36m-:--:--\u001b[0m\r\u001b[2K     \u001b[90m━━━━━━━━━━━━━━━━━━━━━━━━━━━━━━━━━━━━━━━━\u001b[0m \u001b[32m1.7/1.7 MB\u001b[0m \u001b[31m67.9 MB/s\u001b[0m eta \u001b[36m0:00:00\u001b[0m\n",
            "\u001b[?25h  Installing build dependencies ... \u001b[?25l\u001b[?25hdone\n",
            "  Getting requirements to build wheel ... \u001b[?25l\u001b[?25hdone\n",
            "  Preparing metadata (pyproject.toml) ... \u001b[?25l\u001b[?25hdone\n",
            "Collecting pytools>=2011.2 (from pycuda)\n",
            "  Downloading pytools-2025.2.4-py3-none-any.whl.metadata (2.9 kB)\n",
            "Requirement already satisfied: platformdirs>=2.2.0 in /usr/local/lib/python3.12/dist-packages (from pycuda) (4.4.0)\n",
            "Requirement already satisfied: mako in /usr/local/lib/python3.12/dist-packages (from pycuda) (1.3.10)\n",
            "Collecting siphash24>=1.6 (from pytools>=2011.2->pycuda)\n",
            "  Downloading siphash24-1.8-cp312-cp312-manylinux2014_x86_64.manylinux_2_17_x86_64.manylinux_2_28_x86_64.whl.metadata (3.2 kB)\n",
            "Requirement already satisfied: typing-extensions>=4.5 in /usr/local/lib/python3.12/dist-packages (from pytools>=2011.2->pycuda) (4.15.0)\n",
            "Requirement already satisfied: MarkupSafe>=0.9.2 in /usr/local/lib/python3.12/dist-packages (from mako->pycuda) (3.0.2)\n",
            "Downloading pytools-2025.2.4-py3-none-any.whl (99 kB)\n",
            "\u001b[2K   \u001b[90m━━━━━━━━━━━━━━━━━━━━━━━━━━━━━━━━━━━━━━━━\u001b[0m \u001b[32m99.4/99.4 kB\u001b[0m \u001b[31m8.8 MB/s\u001b[0m eta \u001b[36m0:00:00\u001b[0m\n",
            "\u001b[?25hDownloading siphash24-1.8-cp312-cp312-manylinux2014_x86_64.manylinux_2_17_x86_64.manylinux_2_28_x86_64.whl (103 kB)\n",
            "\u001b[2K   \u001b[90m━━━━━━━━━━━━━━━━━━━━━━━━━━━━━━━━━━━━━━━━\u001b[0m \u001b[32m103.2/103.2 kB\u001b[0m \u001b[31m10.6 MB/s\u001b[0m eta \u001b[36m0:00:00\u001b[0m\n",
            "\u001b[?25hBuilding wheels for collected packages: pycuda\n",
            "  Building wheel for pycuda (pyproject.toml) ... \u001b[?25l\u001b[?25hdone\n",
            "  Created wheel for pycuda: filename=pycuda-2025.1.2-cp312-cp312-linux_x86_64.whl size=659050 sha256=61cc3c67aa1b20553b40ba1a500bd6e0ca573a1c55f7acc243f55f1c2ce82476\n",
            "  Stored in directory: /root/.cache/pip/wheels/d5/36/f3/ac5f09d768cad3fa15d5a3449bdfe65c3de58e69d036c73228\n",
            "Successfully built pycuda\n",
            "Installing collected packages: siphash24, pytools, pycuda\n",
            "Successfully installed pycuda-2025.1.2 pytools-2025.2.4 siphash24-1.8\n"
          ]
        }
      ]
    },
    {
      "cell_type": "code",
      "source": [
        "# PYCUDA LIBRARIES\n",
        "import pycuda.driver as drv\n",
        "import pycuda.autoinit\n",
        "from pycuda.compiler import SourceModule"
      ],
      "metadata": {
        "id": "-xcA9JO2qR73"
      },
      "execution_count": 2,
      "outputs": []
    },
    {
      "cell_type": "code",
      "source": [
        "# GENERAL PURPOSES LIBRARIES\n",
        "import numpy as np\n",
        "import matplotlib.pyplot as plt\n",
        "from matplotlib.colors import ListedColormap\n",
        "import math\n",
        "import time"
      ],
      "metadata": {
        "id": "34igeoxPqsq8"
      },
      "execution_count": 100,
      "outputs": []
    },
    {
      "cell_type": "markdown",
      "source": [
        "## Input data"
      ],
      "metadata": {
        "id": "rMokRAUe9sj5"
      }
    },
    {
      "cell_type": "code",
      "source": [
        "# INPUT DATA DIMENSIONS\n",
        "x = 64\n",
        "y = 64"
      ],
      "metadata": {
        "id": "DbGT9HPTT1xS"
      },
      "execution_count": 143,
      "outputs": []
    },
    {
      "cell_type": "markdown",
      "source": [
        "### NDVI"
      ],
      "metadata": {
        "id": "Xp3Vbts795Ix"
      }
    },
    {
      "cell_type": "code",
      "source": [
        "NDVI_random = np.full((y, x), 0.8, dtype= np.float32)"
      ],
      "metadata": {
        "id": "SPw3yIQa91Ih"
      },
      "execution_count": 144,
      "outputs": []
    },
    {
      "cell_type": "markdown",
      "source": [
        "### Cell state"
      ],
      "metadata": {
        "id": "sdlVZtre99GZ"
      }
    },
    {
      "cell_type": "code",
      "source": [
        "state = np.zeros((y, x), dtype=np.int32)  # 0: non-burnt, 1: burning & 2: burnt"
      ],
      "metadata": {
        "id": "RV7KlLZG-rk5"
      },
      "execution_count": 145,
      "outputs": []
    },
    {
      "cell_type": "markdown",
      "source": [
        "## NDVI data processing"
      ],
      "metadata": {
        "id": "VXplvuVY_u0v"
      }
    },
    {
      "cell_type": "code",
      "source": [
        "def calculate_p_den(water_thres, low_thres, high_thres, NDVI):\n",
        "    water_value = 'water'\n",
        "    low_value = 'nonflammable'\n",
        "    mid_value = 'medium'\n",
        "    high_value = 'dense'\n",
        "\n",
        "    # Initialize ndvi_grouped with a default value or array\n",
        "    #ndvi_grouped = np.empty_like(NDVI, dtype='<U10') # Using string dtype to hold the category names\n",
        "\n",
        "    ndvi_grouped = np.where(NDVI >= high_thres, high_value, NDVI)\n",
        "    ndvi_grouped = np.where((NDVI >= low_thres) & (NDVI < high_thres), mid_value, ndvi_grouped)\n",
        "    ndvi_grouped = np.where((NDVI >= water_thres) & (NDVI < low_thres), low_value, ndvi_grouped)\n",
        "    # The original code had this condition last, let's keep it for water\n",
        "    ndvi_grouped = np.where(NDVI < water_thres, water_value, ndvi_grouped)\n",
        "\n",
        "\n",
        "    return ndvi_grouped\n",
        "\n",
        "def calculate_p_den_values(den_water, den_low, den_mid, den_high, ndvi_grouped):\n",
        "    p_den = np.zeros_like(ndvi_grouped, dtype=float)  # numeric array\n",
        "\n",
        "    p_den[ndvi_grouped == 'water'] = den_water\n",
        "    p_den[ndvi_grouped == 'nonflammable'] = den_low\n",
        "    p_den[ndvi_grouped == 'medium'] = den_mid\n",
        "    p_den[ndvi_grouped == 'dense'] = den_high\n",
        "\n",
        "    return p_den"
      ],
      "metadata": {
        "id": "0sLzVhMQz5qk"
      },
      "execution_count": 146,
      "outputs": []
    },
    {
      "cell_type": "code",
      "source": [
        "ndvi= NDVI_random\n",
        "water_thres = 0.1\n",
        "low_thres = 0.5\n",
        "high_thres = 0.7\n",
        "\n",
        "den_water = -1 # Using negative values for water to ensure it can't be enflamed\n",
        "den_low = -1 # These are nonflammable areas\n",
        "den_mid = 0 # These are the general areas\n",
        "den_high = 0.2 # Dense areas have increased change of spreading"
      ],
      "metadata": {
        "id": "bU9S7dqZ2UMD"
      },
      "execution_count": 147,
      "outputs": []
    },
    {
      "cell_type": "code",
      "source": [
        "# FIRE PROBABILITY BY NDVI VALUE\n",
        "\n",
        "# Let's group the NDVI using the first function\n",
        "ndvi_grouped = calculate_p_den(water_thres, low_thres, high_thres, ndvi)\n",
        "\n",
        "# p_den DATA GENERATION\n",
        "'''p_den is the one that will actually be used for calculation. Not that water and nonflammable are both -1, i.e.,\n",
        "nonflammable. Otherwise, the more vegetation the higher the burn probability'''\n",
        "p_den = calculate_p_den_values(den_water, den_low, den_mid, den_high, ndvi_grouped).astype(np.float32)"
      ],
      "metadata": {
        "id": "yO_wnLjp-F3Y"
      },
      "execution_count": 148,
      "outputs": []
    },
    {
      "cell_type": "code",
      "source": [
        "p_den"
      ],
      "metadata": {
        "colab": {
          "base_uri": "https://localhost:8080/"
        },
        "id": "fkR7mBNaTx7f",
        "outputId": "5b71cf1a-1e48-467d-c1ff-bf2feb9fe321"
      },
      "execution_count": 149,
      "outputs": [
        {
          "output_type": "execute_result",
          "data": {
            "text/plain": [
              "array([[0.2, 0.2, 0.2, ..., 0.2, 0.2, 0.2],\n",
              "       [0.2, 0.2, 0.2, ..., 0.2, 0.2, 0.2],\n",
              "       [0.2, 0.2, 0.2, ..., 0.2, 0.2, 0.2],\n",
              "       ...,\n",
              "       [0.2, 0.2, 0.2, ..., 0.2, 0.2, 0.2],\n",
              "       [0.2, 0.2, 0.2, ..., 0.2, 0.2, 0.2],\n",
              "       [0.2, 0.2, 0.2, ..., 0.2, 0.2, 0.2]], dtype=float32)"
            ]
          },
          "metadata": {},
          "execution_count": 149
        }
      ]
    },
    {
      "cell_type": "code",
      "source": [
        "'''cmap_123 = ListedColormap(['darkgreen']) # ['blue', 'goldenrod', 'limegreen', 'darkgreen']\n",
        "plt.imshow(p_den, cmap=cmap_123)\n",
        "plt.show()'''"
      ],
      "metadata": {
        "colab": {
          "base_uri": "https://localhost:8080/",
          "height": 0
        },
        "id": "ogSqLVV_uYSY",
        "outputId": "f4266d92-5898-416d-ad17-22365754f177"
      },
      "execution_count": 150,
      "outputs": [
        {
          "output_type": "execute_result",
          "data": {
            "text/plain": [
              "\"cmap_123 = ListedColormap(['darkgreen']) # ['blue', 'goldenrod', 'limegreen', 'darkgreen']\\nplt.imshow(p_den, cmap=cmap_123)\\nplt.show()\""
            ],
            "application/vnd.google.colaboratory.intrinsic+json": {
              "type": "string"
            }
          },
          "metadata": {},
          "execution_count": 150
        }
      ]
    },
    {
      "cell_type": "markdown",
      "source": [
        "## Set initial conditions"
      ],
      "metadata": {
        "id": "A4AViau0sgYm"
      }
    },
    {
      "cell_type": "markdown",
      "source": [
        "### Fire start point"
      ],
      "metadata": {
        "id": "_7O5xfH1_oCo"
      }
    },
    {
      "cell_type": "code",
      "source": [
        "\n",
        "FP_lon_index = int(x/2)\n",
        "FP_lat_index = int(y/2)\n",
        "\n",
        "state[FP_lon_index, FP_lat_index] = 1"
      ],
      "metadata": {
        "id": "Za_7mORssfrO"
      },
      "execution_count": 151,
      "outputs": []
    },
    {
      "cell_type": "code",
      "source": [
        "#state"
      ],
      "metadata": {
        "id": "xVn2YS4wUYf5"
      },
      "execution_count": 51,
      "outputs": []
    },
    {
      "cell_type": "code",
      "source": [
        "cmap_123 = ListedColormap(['darkgreen', 'red']) # ['blue', 'goldenrod', 'limegreen', 'darkgreen']\n",
        "plt.imshow(state, cmap=cmap_123)\n",
        "plt.show()"
      ],
      "metadata": {
        "colab": {
          "base_uri": "https://localhost:8080/",
          "height": 432
        },
        "id": "wPApB7NLuCpK",
        "outputId": "0ea09996-ee74-4007-f869-e7981064f1e5"
      },
      "execution_count": 152,
      "outputs": [
        {
          "output_type": "display_data",
          "data": {
            "text/plain": [
              "<Figure size 640x480 with 1 Axes>"
            ],
            "image/png": "[encoded data removed]"
          },
          "metadata": {}
        }
      ]
    },
    {
      "cell_type": "markdown",
      "source": [
        "### Burn probability threshold"
      ],
      "metadata": {
        "id": "orwp5sNIAemB"
      }
    },
    {
      "cell_type": "code",
      "source": [
        "p_h = 0.6 # This parameter should be tunned in future instances\n",
        "p_burn = p_h*(1+p_den) # p_burn is larger as higher the ndvi value (more biomass can be serve as fuel)"
      ],
      "metadata": {
        "id": "ColJjOS6u3-H"
      },
      "execution_count": 153,
      "outputs": []
    },
    {
      "cell_type": "code",
      "source": [
        "#p_burn"
      ],
      "metadata": {
        "id": "uXFiedBku96_"
      },
      "execution_count": 54,
      "outputs": []
    },
    {
      "cell_type": "markdown",
      "source": [
        "### Set iterations (time-steps)"
      ],
      "metadata": {
        "id": "opOiDXMFCNNP"
      }
    },
    {
      "cell_type": "code",
      "source": [
        "# NUMBER OF TIME-STEPS\n",
        "T = 20\n",
        "\n",
        "# SET RANDOM VALUES MATRIX (ONLY FOR GPU IMPLEMENTATION)\n",
        "random_p = np.random.rand(T, x, y).astype(np.float32)"
      ],
      "metadata": {
        "id": "ruIz7X1pCNVA"
      },
      "execution_count": 176,
      "outputs": []
    },
    {
      "cell_type": "markdown",
      "source": [
        "## AC GPU implementation"
      ],
      "metadata": {
        "id": "gLrJlRqNKvN_"
      }
    },
    {
      "cell_type": "code",
      "source": [
        "state_GPU = state.copy()"
      ],
      "metadata": {
        "id": "1AcVFruTFcwY"
      },
      "execution_count": 177,
      "outputs": []
    },
    {
      "cell_type": "markdown",
      "source": [
        "### AC implementation Kernel"
      ],
      "metadata": {
        "id": "UaxIib96DFcQ"
      }
    },
    {
      "cell_type": "code",
      "source": [
        "mod = SourceModule (\"\"\"\n",
        "    __global__ void compute_AC(int *state, float *ndvi, float *randm, int rows, int cols){\n",
        "    int row = blockIdx.y * blockDim.y + threadIdx.y;\n",
        "    int col = blockIdx.x * blockDim.x + threadIdx.x;\n",
        "\n",
        "    if (row < rows && col < cols) {\n",
        "        int i = row * cols + col;\n",
        "\n",
        "        if (state[i] == 2){\n",
        "              state[i] = 2;\n",
        "        } else if (\n",
        "            (row > 0 && state[i - cols] == 1) || // Up\n",
        "            (row < rows-1 && state[i + cols] == 1) || // Down\n",
        "            (col > 0 && state[i - 1] == 1) || // Left\n",
        "            (col < cols-1 && state[i + 1] == 1) || // Right\n",
        "            (row > 0 && col > 0 && state[i - cols - 1] == 1) || // Up-left\n",
        "            (row > 0 && col < cols-1 && state[i - cols + 1] == 1) || // Up-right\n",
        "            (row < rows-1 && col > 0 && state[i + cols - 1] == 1) || // Down-left\n",
        "            (row < rows-1 && col < cols-1 && state[i + cols + 1] == 1) // Down-right\n",
        "        ) {\n",
        "\n",
        "          if (randm[i] < ndvi[i]) {\n",
        "            state[i] = 1;\n",
        "          } else {\n",
        "            state[i] = 0;\n",
        "          }\n",
        "        } else if (state[i] == 1) {\n",
        "            state[i] = 2;\n",
        "        } else {\n",
        "          state[i] = 0;\n",
        "        }\n",
        "      }\n",
        "    }\n",
        "    \"\"\")"
      ],
      "metadata": {
        "id": "nxopPDFAblJ_"
      },
      "execution_count": 178,
      "outputs": []
    },
    {
      "cell_type": "markdown",
      "source": [
        "### -"
      ],
      "metadata": {
        "id": "0fqFmlJ8FvVY"
      }
    },
    {
      "cell_type": "code",
      "source": [
        "# DEFINE ROWS AND COLS\n",
        "cols = x\n",
        "rows = y\n",
        "\n",
        "# START TIME GPU IMPLEMENTATION\n",
        "start_GPU = time.time()\n",
        "\n",
        "# GET THE KERNEL FUNCTION\n",
        "compute_AC = mod.get_function(\"compute_AC\")\n",
        "\n",
        "# ALLOCATE GPU MEMORY\n",
        "state_gpu = drv.mem_alloc(state.nbytes)\n",
        "state_old_gpu = drv.mem_alloc(state.nbytes)\n",
        "ndvi_gpu = drv.mem_alloc(ndvi.nbytes)\n",
        "randm_gpu = drv.mem_alloc(random_p[0].nbytes)\n",
        "\n",
        "# Copy initial data to GPU\n",
        "drv.memcpy_htod(state_gpu, state_GPU)\n",
        "drv.memcpy_htod(ndvi_gpu, ndvi)\n",
        "\n",
        "# Define block and grid dimensions\n",
        "block_dim = (32, 32, 1) # max threads by block: 1024 (32x32)\n",
        "grid_dim = ((cols + block_dim[0] - 1) // block_dim[0],\n",
        "           (rows + block_dim[1] - 1) // block_dim[1], 1)\n",
        "\n",
        "# Time loop\n",
        "for t in range(T):\n",
        "\n",
        "    '''# Copy current state to old state\n",
        "    drv.memcpy_dtod(state_old_gpu, state_gpu, state.nbytes)'''\n",
        "\n",
        "    # Generate new random values for this iteration (if needed)\n",
        "    #random_p = np.random.random((rows, cols)).astype(np.float32)\n",
        "    drv.memcpy_htod(randm_gpu, random_p[t])\n",
        "\n",
        "    # Launch kernel\n",
        "    compute_AC(\n",
        "        state_gpu,\n",
        "        ndvi_gpu,\n",
        "        randm_gpu,\n",
        "        np.int32(rows),\n",
        "        np.int32(cols),\n",
        "        block=block_dim,\n",
        "        grid=grid_dim\n",
        "    )\n",
        "\n",
        "    '''# Copy current state to old state\n",
        "    drv.memcpy_dtod(state_old_gpu, state_gpu, state.nbytes)'''\n",
        "\n",
        "    '''# Optional: Copy back and print intermediate results\n",
        "    if t % 1 == 0:  # Print every iteration\n",
        "        temp_result = np.empty_like(state)\n",
        "        drv.memcpy_dtoh(temp_result, state_gpu)\n",
        "        print(f\"Iteration {t}:\")\n",
        "        print(temp_result)\n",
        "        print()'''\n",
        "\n",
        "    # Copy current state to old state\n",
        "    drv.memcpy_dtod(state_old_gpu, state_gpu, state.nbytes)\n",
        "\n",
        "\n",
        "# Copy final result back to CPU\n",
        "result = np.empty_like(state)\n",
        "drv.memcpy_dtoh(result, state_gpu)\n",
        "\n",
        "# END TIME GPU IMPLEMENTATION\n",
        "end_GPU = time.time()\n",
        "\n",
        "#print(\"Final result:\")\n",
        "#print(result)"
      ],
      "metadata": {
        "id": "e6akfTGtfy_N"
      },
      "execution_count": 179,
      "outputs": []
    },
    {
      "cell_type": "code",
      "source": [
        "end_GPU-start_GPU # in seconds"
      ],
      "metadata": {
        "id": "gjYo1FLzPn2Y",
        "outputId": "6b67aa93-ba1f-421a-ca8f-daf76fea3eca",
        "colab": {
          "base_uri": "https://localhost:8080/"
        }
      },
      "execution_count": 180,
      "outputs": [
        {
          "output_type": "execute_result",
          "data": {
            "text/plain": [
              "0.0033588409423828125"
            ]
          },
          "metadata": {},
          "execution_count": 180
        }
      ]
    },
    {
      "cell_type": "code",
      "source": [
        "cmap_123 = ListedColormap(['darkgreen', 'red'])\n",
        "\n",
        "fig, ax = plt.subplots(1, 2, figsize=(12,12)) # Correctly unpacks figure and axes\n",
        "\n",
        "ax[0].imshow(state_GPU, cmap=cmap_123) # Use the first axes for the initial state\n",
        "ax[0].set_title(\"Initial State\")\n",
        "ax[1].imshow(result, cmap=cmap_123) # Use the second axes for the final state\n",
        "ax[1].set_title(\"Final state at \"+str(T)+\" iterations\")\n",
        "plt.show()"
      ],
      "metadata": {
        "id": "cthz5W5qpVMW",
        "outputId": "676e2201-bbef-4bbd-e508-21ff3c6731a9",
        "colab": {
          "base_uri": "https://localhost:8080/",
          "height": 505
        }
      },
      "execution_count": 181,
      "outputs": [
        {
          "output_type": "display_data",
          "data": {
            "text/plain": [
              "<Figure size 1200x1200 with 2 Axes>"
            ],
            "image/png": "[encoded data removed]"
          },
          "metadata": {}
        }
      ]
    },
    {
      "cell_type": "markdown",
      "source": [
        "## AC Sequential implementation ()"
      ],
      "metadata": {
        "id": "xO9sqo6sMJ2Y"
      }
    },
    {
      "cell_type": "code",
      "source": [
        "state_Seq = state.copy()"
      ],
      "metadata": {
        "id": "YYOb0KqXTJeY"
      },
      "execution_count": 192,
      "outputs": []
    },
    {
      "cell_type": "code",
      "source": [
        "# START TIME SEQ IMPLEMENTATION\n",
        "start_SEQ = time.time()\n",
        "\n",
        "for i_t in range(T):\n",
        "    new_state = state_Seq.copy()  # buffer for the new step\n",
        "    for i in range(y):\n",
        "        for j in range(x):\n",
        "            if state_Seq[i, j] == 2:\n",
        "                new_state[i, j] = 2\n",
        "            elif (i + 1 < y and state_Seq[i+1, j] == 1) or \\\n",
        "                 (i - 1 >= 0 and state_Seq[i-1, j] == 1) or \\\n",
        "                 (j + 1 < x and state_Seq[i, j+1] == 1) or \\\n",
        "                 (j - 1 >= 0 and state_Seq[i, j-1] == 1) or \\\n",
        "                 (i + 1 < y and j + 1 < x and state_Seq[i+1, j+1] == 1) or \\\n",
        "                 (i - 1 >= 0 and j - 1 >= 0 and state_Seq[i-1, j-1] == 1) or \\\n",
        "                 (i + 1 < y and j - 1 >= 0 and state_Seq[i+1, j-1] == 1) or \\\n",
        "                 (i - 1 >= 0 and j + 1 < x and state_Seq[i-1, j+1] == 1):\n",
        "                if np.random.rand() < p_burn[i, j]:\n",
        "                    new_state[i, j] = 1\n",
        "                else:\n",
        "                    new_state[i, j] = 0\n",
        "            elif state_Seq[i, j] == 1:\n",
        "                new_state[i, j] = 2\n",
        "            else:\n",
        "                new_state[i, j] = 0\n",
        "    state_Seq = new_state  # update after the full step\n",
        "\n",
        "# START TIME SEQ IMPLEMENTATION\n",
        "end_SEQ = time.time()"
      ],
      "metadata": {
        "id": "9vujQOJgMNBA"
      },
      "execution_count": 193,
      "outputs": []
    },
    {
      "cell_type": "code",
      "source": [
        "end_SEQ-start_SEQ"
      ],
      "metadata": {
        "id": "nWb_7G1iVd0_",
        "outputId": "4d02ab98-84a3-421d-92ae-0da28c1a05bd",
        "colab": {
          "base_uri": "https://localhost:8080/"
        }
      },
      "execution_count": 195,
      "outputs": [
        {
          "output_type": "execute_result",
          "data": {
            "text/plain": [
              "0.23138642311096191"
            ]
          },
          "metadata": {},
          "execution_count": 195
        }
      ]
    },
    {
      "cell_type": "code",
      "source": [
        "cmap_123 = ListedColormap(['darkgreen', 'red'])\n",
        "\n",
        "fig, ax = plt.subplots(1, 2, figsize=(12,12)) # Correctly unpacks figure and axes\n",
        "\n",
        "ax[0].imshow(state_GPU, cmap=cmap_123) # Use the first axes for the initial state\n",
        "ax[0].set_title(\"Initial State\")\n",
        "ax[1].imshow(state_Seq, cmap=cmap_123) # Use the second axes for the final state\n",
        "ax[1].set_title(\"Final state at \"+str(T)+\" iterations\")\n",
        "plt.show()"
      ],
      "metadata": {
        "id": "OCn4NwTvVKJZ",
        "outputId": "6ddb8f18-826c-4597-de7b-fe056d64f15b",
        "colab": {
          "base_uri": "https://localhost:8080/",
          "height": 505
        }
      },
      "execution_count": 194,
      "outputs": [
        {
          "output_type": "display_data",
          "data": {
            "text/plain": [
              "<Figure size 1200x1200 with 2 Axes>"
            ],
            "image/png": "[encoded data removed]"
          },
          "metadata": {}
        }
      ]
    },
    {
      "cell_type": "markdown",
      "source": [
        "## WIND DATA"
      ],
      "metadata": {
        "id": "8XMSJLwQT4w5"
      }
    },
    {
      "cell_type": "code",
      "source": [
        "U = np.full((y, x), 1.0)   # x-component\n",
        "V = np.full((y, x), 1.0)   # y-component"
      ],
      "metadata": {
        "id": "6pyAFByxT4Jx"
      },
      "execution_count": null,
      "outputs": []
    },
    {
      "cell_type": "code",
      "source": [
        "X, Y = np.meshgrid(np.arange(x), np.arange(x))\n",
        "\n",
        "# PLOT WIND DATA SUBSAMPLE\n",
        "plt.figure(figsize=(6,6))\n",
        "plt.quiver(\n",
        "    X[::step, ::step],\n",
        "    Y[::step, ::step],\n",
        "    U[::step, ::step],\n",
        "    V[::step, ::step],\n",
        "    scale=20,\n",
        "    color=\"blue\"\n",
        ")\n",
        "\n",
        "'''plt.quiver(\n",
        "    X,\n",
        "    Y,\n",
        "    U,\n",
        "    V,\n",
        "    scale=20,\n",
        "    color=\"blue\"\n",
        ")'''\n",
        "plt.title(\"Wind Vector Field (Subsampled)\")\n",
        "plt.xlabel(\"X\")\n",
        "plt.ylabel(\"Y\")\n",
        "plt.xlim(30, 90)\n",
        "plt.ylim(0, 90)\n",
        "plt.axis(\"equal\")\n",
        "plt.show()"
      ],
      "metadata": {
        "colab": {
          "base_uri": "https://localhost:8080/",
          "height": 564
        },
        "id": "f61QPV7RZ_4Z",
        "outputId": "f5b3ce14-6501-47f8-c23c-c5713bdc3f58"
      },
      "execution_count": null,
      "outputs": [
        {
          "output_type": "display_data",
          "data": {
            "text/plain": [
              "<Figure size 600x600 with 1 Axes>"
            ],
            "image/png": "[encoded data removed]"
          },
          "metadata": {}
        }
      ]
    },
    {
      "cell_type": "code",
      "source": [
        "n_t = 3 # timesteps\n",
        "\n",
        "# fire_state = timesteps x lat x lon\n",
        "fire_state = np.zeros((n_t, y, x), dtype=int)"
      ],
      "metadata": {
        "id": "4GndE6xxp6jJ"
      },
      "execution_count": null,
      "outputs": []
    },
    {
      "cell_type": "code",
      "source": [
        "#p_burn = p_h * (1+p_den) # probability of burning\n",
        "p_h = 0.6\n",
        "p_burn = p_h*(1+p_den)"
      ],
      "metadata": {
        "id": "1vCRivmdApm_"
      },
      "execution_count": null,
      "outputs": []
    },
    {
      "cell_type": "code",
      "source": [
        "p_burn"
      ],
      "metadata": {
        "colab": {
          "base_uri": "https://localhost:8080/"
        },
        "id": "zdjOO5W7Aq1g",
        "outputId": "34361d8e-d315-4b62-815a-2e3db3ddbca5"
      },
      "execution_count": null,
      "outputs": [
        {
          "output_type": "execute_result",
          "data": {
            "text/plain": [
              "array([[0.72, 0.72, 0.  , ..., 0.  , 0.72, 0.6 ],\n",
              "       [0.  , 0.6 , 0.  , ..., 0.72, 0.72, 0.  ],\n",
              "       [0.72, 0.72, 0.72, ..., 0.  , 0.72, 0.  ],\n",
              "       ...,\n",
              "       [0.72, 0.  , 0.72, ..., 0.72, 0.  , 0.  ],\n",
              "       [0.  , 0.72, 0.72, ..., 0.72, 0.6 , 0.72],\n",
              "       [0.72, 0.  , 0.  , ..., 0.72, 0.  , 0.6 ]])"
            ]
          },
          "metadata": {},
          "execution_count": 85
        }
      ]
    },
    {
      "cell_type": "code",
      "source": [
        "#fire_state"
      ],
      "metadata": {
        "id": "9T5eITehrWcp"
      },
      "execution_count": null,
      "outputs": []
    },
    {
      "cell_type": "code",
      "source": [
        "U[34][45], V[34][45]"
      ],
      "metadata": {
        "colab": {
          "base_uri": "https://localhost:8080/"
        },
        "id": "5qMQZg_wfXtq",
        "outputId": "99aed3ea-2cfb-4e96-e97d-307a7e23b049"
      },
      "execution_count": null,
      "outputs": [
        {
          "output_type": "execute_result",
          "data": {
            "text/plain": [
              "(np.float64(1.0), np.float64(1.0))"
            ]
          },
          "metadata": {},
          "execution_count": 56
        }
      ]
    },
    {
      "cell_type": "code",
      "source": [
        "a = np.array([U[34][45], V[34][45]])\n",
        "b = np.array([-1, 0])\n",
        "\n",
        "def same_direction(A, B):\n",
        "  dot = np.dot(A, B)\n",
        "  norm = np.linalg.norm(A) * np.linalg.norm(B)\n",
        "  cos_theta = dot / norm\n",
        "  return cos_theta\n",
        "\n",
        "same_direction(a, b)"
      ],
      "metadata": {
        "colab": {
          "base_uri": "https://localhost:8080/"
        },
        "id": "i1yP907pfk2Q",
        "outputId": "60bafb8f-d25d-4c3b-c5f4-dd9222d12044"
      },
      "execution_count": null,
      "outputs": [
        {
          "output_type": "execute_result",
          "data": {
            "text/plain": [
              "np.float64(-0.7071067811865475)"
            ]
          },
          "metadata": {},
          "execution_count": 59
        }
      ]
    },
    {
      "cell_type": "code",
      "execution_count": null,
      "metadata": {
        "id": "4pjh2c43py-z"
      },
      "outputs": [],
      "source": [
        "for i_t in range(1,n_t):\n",
        "    for i in range(len(x)):\n",
        "        for j in range(len(y)):\n",
        "            # If cell is burnt it remains burnt\n",
        "            if fire_state[i_t-1, i, j] == 2:\n",
        "                fire_state[i_t, i, j] = 2\n",
        "            # If cell was burning it turns into a burnt cell\n",
        "            elif fire_state[i_t-1, i, j] == 1:\n",
        "                fire_state[i_t, i, j] = 2\n",
        "            # If cell is not burning and adjacent cell is burning, calculate if it turns to burning cell\n",
        "            elif (i+1 < len(x) and fire_state[i_t-1, i+1, j] == 1) or \\ # right pixel\n",
        "               (i-1 >= 0 and fire_state[i_t-1, i-1, j] == 1) or \\ # left pixel\n",
        "               (j+1 < len(y) and fire_state[i_t-1, i, j+1] == 1) or \\ # upper pixel\n",
        "               (j-1 >= 0 and fire_state[i_t-1, i, j-1] == 1) or \\ # lower pixel\n",
        "               (i+1 < len(x) and j+1 < len(y) and fire_state[i_t-1, i+1, j+1] == 1) or \\ # upper-right pixel\n",
        "               (i-1 >= 0 and j-1 >= 0 and fire_state[i_t-1, i-1, j-1] == 1) or \\ # lower-left pixel\n",
        "               (i+1 < len(x) and j-1 >= 0 and fire_state[i_t-1, i+1, j-1] == 1) or \\ # lower-right pixel\n",
        "               (i-1 >= 0 and j+1 < len(y) and fire_state[i_t-1, i-1, j+1] == 1): # upper-left pixel\n",
        "                if np.random.rand() < p_burn[i,j]:\n",
        "                    fire_state[i_t, i, j] = 1\n",
        "                else:\n",
        "                    fire_state[i_t, i, j] = 0\n",
        "            # All cells that are not burning and not adjacent to a burning cell remain unburnt\n",
        "            else:\n",
        "                fire_state[i_t, i, j] = fire_state[i_t-1, i, j]"
      ]
    },
    {
      "cell_type": "markdown",
      "source": [
        "# USELESS"
      ],
      "metadata": {
        "id": "6ezNZzB9qLzH"
      }
    },
    {
      "cell_type": "code",
      "source": [
        "#  2D / 1 Block\n",
        "#   doblar matriz\n",
        "#   Implementación con SourceModule de duplicar elementos de una matriz.\n",
        "\n",
        "\n",
        "!pip install pycuda\n",
        "\n",
        "import pycuda.driver as drv\n",
        "import pycuda.autoinit\n",
        "from   pycuda.compiler import SourceModule\n",
        "import numpy as np\n",
        "import time\n",
        "\n",
        "\n",
        "if __name__ == '__main__':\n",
        "\n",
        "    # Parametros de configuracion:\n",
        "    drv.init()\n",
        "    dev = drv.Device(0) # Device 0\n",
        "    max_thr_per_blk = dev.MAX_THREADS_PER_BLOCK\n",
        "    print(\"MAX_THREADS_PER_BLOCK: \", max_thr_per_blk)\n",
        "\n",
        "    # 1. Definir kenel\n",
        "    mod = SourceModule (\"\"\"\n",
        "    __global__ void doblar_matriz(float *a) {\n",
        "        int row = (blockDim.x * blockIdx.x) + threadIdx.x;\n",
        "        int col = (blockDim.y * blockIdx.y) + threadIdx.y;\n",
        "\n",
        "        if ((row < 5) && (col < 5)) {\n",
        "            int i = (row * 5) + col;   /* Row major */\n",
        "            a[i] = a[i] * 2;\n",
        "        }\n",
        "    }\n",
        "    \"\"\")\n",
        "\n",
        "    # 2. Reserva memoria en GPU:\n",
        "    H = 64\n",
        "    W = 64\n",
        "    a = np.arange(H * W, dtype=np.float32).reshape(H, W)\n",
        "    print(\"Matriz:\", a, a.nbytes)\n",
        "    a_gpu = drv.mem_alloc(a.nbytes) # mem_alloc(size) asks the GPU to reserve size bytes in global memory\n",
        "\n",
        "    # 3. Transferir datos host->GPU\n",
        "    drv.memcpy_htod(a_gpu, a)\n",
        "\n",
        "    # 4. Invoca kernel\n",
        "    comp_AC = mod.get_function(\"compute_AC\")\n",
        "    comp_AC(a_gpu, block = (H, W, 1),\n",
        "                  grid  = (1, 1, 1))\n",
        "\n",
        "    # 5. Transferir datos GPU->host\n",
        "    a_doubled = np.arange(H * W, dtype=np.float32)\n",
        "    drv.memcpy_dtoh(a_doubled, a_gpu)\n",
        "\n",
        "    print(\"Matriz doble:\", a_doubled.reshape(H, W))"
      ],
      "metadata": {
        "id": "92FSsHipKuML"
      },
      "execution_count": null,
      "outputs": []
    }
  ]
}