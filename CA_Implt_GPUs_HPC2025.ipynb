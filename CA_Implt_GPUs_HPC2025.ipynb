{
  "nbformat": 4,
  "nbformat_minor": 0,
  "metadata": {
    "colab": {
      "provenance": [],
      "authorship_tag": "ABX9TyNAbXbRJU1qjbhqGDjHpxww",
      "include_colab_link": true
    },
    "kernelspec": {
      "name": "python3",
      "display_name": "Python 3"
    },
    "language_info": {
      "name": "python"
    }
  },
  "cells": [
    {
      "cell_type": "markdown",
      "metadata": {
        "id": "view-in-github",
        "colab_type": "text"
      },
      "source": [
        "<a href=\"https://colab.research.google.com/github/francobarrionuevoenv21/HPC_2025/blob/main/CA_Implt_GPUs_HPC2025.ipynb\" target=\"_parent\"><img src=\"https://colab.research.google.com/assets/colab-badge.svg\" alt=\"Open In Colab\"/></a>"
      ]
    },
    {
      "cell_type": "code",
      "source": [
        "n_t = 80 # timesteps\n"
      ],
      "metadata": {
        "id": "4GndE6xxp6jJ"
      },
      "execution_count": null,
      "outputs": []
    },
    {
      "cell_type": "code",
      "execution_count": null,
      "metadata": {
        "id": "4pjh2c43py-z"
      },
      "outputs": [],
      "source": [
        "for i_t in range(1,n_t):\n",
        "    for i in range(len(x)):\n",
        "        for j in range(len(y)):\n",
        "            # If cell is burnt it remains burnt\n",
        "            if fire_state[i_t-1, i, j] == 2:\n",
        "                fire_state[i_t, i, j] = 2\n",
        "            # If cell was burning it turns into a burnt cell\n",
        "            elif fire_state[i_t-1, i, j] == 1:\n",
        "                fire_state[i_t, i, j] = 2\n",
        "            # If cell is not burning and adjacent cell is burning, calculate if it turns to burning cell\n",
        "            elif (i+1 < len(x) and fire_state[i_t-1, i+1, j] == 1) or \\\n",
        "               (i-1 >= 0 and fire_state[i_t-1, i-1, j] == 1) or \\\n",
        "               (j+1 < len(y) and fire_state[i_t-1, i, j+1] == 1) or \\\n",
        "               (j-1 >= 0 and fire_state[i_t-1, i, j-1] == 1) or \\\n",
        "               (i+1 < len(x) and j+1 < len(y) and fire_state[i_t-1, i+1, j+1] == 1) or \\\n",
        "               (i-1 >= 0 and j-1 >= 0 and fire_state[i_t-1, i-1, j-1] == 1) or \\\n",
        "               (i+1 < len(x) and j-1 >= 0 and fire_state[i_t-1, i+1, j-1] == 1) or \\\n",
        "               (i-1 >= 0 and j+1 < len(y) and fire_state[i_t-1, i-1, j+1] == 1):\n",
        "                if np.random.rand() < p_burn[i,j]:\n",
        "                    fire_state[i_t, i, j] = 1\n",
        "                else:\n",
        "                    fire_state[i_t, i, j] = 0\n",
        "            # All cells that are not burning and not adjacent to a burning cell remain unburnt\n",
        "            else:\n",
        "                fire_state[i_t, i, j] = fire_state[i_t-1, i, j]"
      ]
    }
  ]
}