{
  "nbformat": 4,
  "nbformat_minor": 0,
  "metadata": {
    "colab": {
      "provenance": [],
      "authorship_tag": "ABX9TyNjglscs3PIHNomtWy2kz/q",
      "include_colab_link": true
    },
    "kernelspec": {
      "name": "python3",
      "display_name": "Python 3"
    },
    "language_info": {
      "name": "python"
    }
  },
  "cells": [
    {
      "cell_type": "markdown",
      "metadata": {
        "id": "view-in-github",
        "colab_type": "text"
      },
      "source": [
        "<a href=\"https://colab.research.google.com/github/francobarrionuevoenv21/HPC_2025/blob/main/CA_Implt_GPUs_HPC2025.ipynb\" target=\"_parent\"><img src=\"https://colab.research.google.com/assets/colab-badge.svg\" alt=\"Open In Colab\"/></a>"
      ]
    },
    {
      "cell_type": "code",
      "source": [
        "import numpy as np\n",
        "import matplotlib.pyplot as plt\n",
        "from matplotlib.colors import ListedColormap"
      ],
      "metadata": {
        "id": "34igeoxPqsq8"
      },
      "execution_count": 39,
      "outputs": []
    },
    {
      "cell_type": "markdown",
      "source": [
        "## NDVI DATA"
      ],
      "metadata": {
        "id": "VXplvuVY_u0v"
      }
    },
    {
      "cell_type": "code",
      "source": [
        "def calculate_p_den(water_thres, low_thres, high_thres, NDVI):\n",
        "    water_value = 'water'\n",
        "    low_value = 'nonflammable'\n",
        "    mid_value = 'medium'\n",
        "    high_value = 'dense'\n",
        "\n",
        "    # Initialize ndvi_grouped with a default value or array\n",
        "    #ndvi_grouped = np.empty_like(NDVI, dtype='<U10') # Using string dtype to hold the category names\n",
        "\n",
        "    ndvi_grouped = np.where(NDVI >= high_thres, high_value, NDVI)\n",
        "    ndvi_grouped = np.where((NDVI >= low_thres) & (NDVI < high_thres), mid_value, ndvi_grouped)\n",
        "    ndvi_grouped = np.where((NDVI >= water_thres) & (NDVI < low_thres), low_value, ndvi_grouped)\n",
        "    # The original code had this condition last, let's keep it for water\n",
        "    ndvi_grouped = np.where(NDVI < water_thres, water_value, ndvi_grouped)\n",
        "\n",
        "\n",
        "    return ndvi_grouped\n",
        "\n",
        "def calculate_p_den_values(den_water, den_low, den_mid, den_high, ndvi_grouped):\n",
        "    p_den = np.zeros_like(ndvi_grouped, dtype=float)  # numeric array\n",
        "\n",
        "    p_den[ndvi_grouped == 'water'] = den_water\n",
        "    p_den[ndvi_grouped == 'nonflammable'] = den_low\n",
        "    p_den[ndvi_grouped == 'medium'] = den_mid\n",
        "    p_den[ndvi_grouped == 'dense'] = den_high\n",
        "\n",
        "    return p_den"
      ],
      "metadata": {
        "id": "0sLzVhMQz5qk"
      },
      "execution_count": 78,
      "outputs": []
    },
    {
      "cell_type": "code",
      "source": [
        "NDVI_random = np.random.rand(x, y)"
      ],
      "metadata": {
        "id": "t4LpuUXszKvX"
      },
      "execution_count": 79,
      "outputs": []
    },
    {
      "cell_type": "code",
      "source": [
        "ndvi= NDVI_random\n",
        "water_thres = 0.1\n",
        "low_thres = 0.5\n",
        "high_thres = 0.7\n",
        "\n",
        "den_water = -1 # Using negative values for water to ensure it can't be enflamed\n",
        "den_low = -1 # These are nonflammable areas\n",
        "den_mid = 0 # These are the general areas\n",
        "den_high = 0.2 # Dense areas have increased change of spreading\n",
        "\n",
        "# Let's group the NDVI using the first function\n",
        "ndvi_grouped = calculate_p_den(water_thres, low_thres, high_thres, ndvi)\n",
        "\n",
        "# p_den is the one that will actually be used for calculation. Not that water and nonflammable are both -1, i.e., nonflammable.\n",
        "# Otherwise, the more vegetation the higher the burn probability\n",
        "p_den = calculate_p_den_values(den_water, den_low, den_mid, den_high, ndvi_grouped)\n"
      ],
      "metadata": {
        "id": "bU9S7dqZ2UMD"
      },
      "execution_count": 81,
      "outputs": []
    },
    {
      "cell_type": "code",
      "source": [
        "#cmap_123 = ListedColormap(['blue', 'goldenrod', 'limegreen', 'darkgreen'])\n",
        "plt.imshow(p_den)\n",
        "plt.show()"
      ],
      "metadata": {
        "colab": {
          "base_uri": "https://localhost:8080/",
          "height": 432
        },
        "id": "ogSqLVV_uYSY",
        "outputId": "38142754-4c07-4e8f-cc2f-d682b6368218"
      },
      "execution_count": 77,
      "outputs": [
        {
          "output_type": "display_data",
          "data": {
            "text/plain": [
              "<Figure size 640x480 with 1 Axes>"
            ],
            "image/png": "[encoded data removed]"
          },
          "metadata": {}
        }
      ]
    },
    {
      "cell_type": "code",
      "source": [
        "n_t = 3 # timesteps\n",
        "x = 64\n",
        "y = 64\n",
        "\n",
        "# fire_state = lon x lat\n",
        "fire_state = np.zeros((n_t, x, y), dtype=int) #fire_state = np.zeros((n_t, len(x), len(y)), dtype=int)"
      ],
      "metadata": {
        "id": "4GndE6xxp6jJ"
      },
      "execution_count": 6,
      "outputs": []
    },
    {
      "cell_type": "code",
      "source": [
        "#p_burn = p_h * (1+p_den) # probability of burning\n",
        "p_h = 0.6\n",
        "p_burn = p_h*(1+p_den)"
      ],
      "metadata": {
        "id": "1vCRivmdApm_"
      },
      "execution_count": 84,
      "outputs": []
    },
    {
      "cell_type": "code",
      "source": [
        "p_burn"
      ],
      "metadata": {
        "colab": {
          "base_uri": "https://localhost:8080/"
        },
        "id": "zdjOO5W7Aq1g",
        "outputId": "34361d8e-d315-4b62-815a-2e3db3ddbca5"
      },
      "execution_count": 85,
      "outputs": [
        {
          "output_type": "execute_result",
          "data": {
            "text/plain": [
              "array([[0.72, 0.72, 0.  , ..., 0.  , 0.72, 0.6 ],\n",
              "       [0.  , 0.6 , 0.  , ..., 0.72, 0.72, 0.  ],\n",
              "       [0.72, 0.72, 0.72, ..., 0.  , 0.72, 0.  ],\n",
              "       ...,\n",
              "       [0.72, 0.  , 0.72, ..., 0.72, 0.  , 0.  ],\n",
              "       [0.  , 0.72, 0.72, ..., 0.72, 0.6 , 0.72],\n",
              "       [0.72, 0.  , 0.  , ..., 0.72, 0.  , 0.6 ]])"
            ]
          },
          "metadata": {},
          "execution_count": 85
        }
      ]
    },
    {
      "cell_type": "code",
      "source": [
        "#fire_state"
      ],
      "metadata": {
        "id": "9T5eITehrWcp"
      },
      "execution_count": 83,
      "outputs": []
    },
    {
      "cell_type": "code",
      "execution_count": null,
      "metadata": {
        "id": "4pjh2c43py-z"
      },
      "outputs": [],
      "source": [
        "for i_t in range(1,n_t):\n",
        "    for i in range(len(x)):\n",
        "        for j in range(len(y)):\n",
        "            # If cell is burnt it remains burnt\n",
        "            if fire_state[i_t-1, i, j] == 2:\n",
        "                fire_state[i_t, i, j] = 2\n",
        "            # If cell was burning it turns into a burnt cell\n",
        "            elif fire_state[i_t-1, i, j] == 1:\n",
        "                fire_state[i_t, i, j] = 2\n",
        "            # If cell is not burning and adjacent cell is burning, calculate if it turns to burning cell\n",
        "            elif (i+1 < len(x) and fire_state[i_t-1, i+1, j] == 1) or \\ # right pixel\n",
        "               (i-1 >= 0 and fire_state[i_t-1, i-1, j] == 1) or \\ # left pixel\n",
        "               (j+1 < len(y) and fire_state[i_t-1, i, j+1] == 1) or \\ # upper pixel\n",
        "               (j-1 >= 0 and fire_state[i_t-1, i, j-1] == 1) or \\ # lower pixel\n",
        "               (i+1 < len(x) and j+1 < len(y) and fire_state[i_t-1, i+1, j+1] == 1) or \\ # upper-right pixel\n",
        "               (i-1 >= 0 and j-1 >= 0 and fire_state[i_t-1, i-1, j-1] == 1) or \\ # lower-left pixel\n",
        "               (i+1 < len(x) and j-1 >= 0 and fire_state[i_t-1, i+1, j-1] == 1) or \\ # lower-right pixel\n",
        "               (i-1 >= 0 and j+1 < len(y) and fire_state[i_t-1, i-1, j+1] == 1): # upper-left pixel\n",
        "                if np.random.rand() < p_burn[i,j]:\n",
        "                    fire_state[i_t, i, j] = 1\n",
        "                else:\n",
        "                    fire_state[i_t, i, j] = 0\n",
        "            # All cells that are not burning and not adjacent to a burning cell remain unburnt\n",
        "            else:\n",
        "                fire_state[i_t, i, j] = fire_state[i_t-1, i, j]"
      ]
    }
  ]
}