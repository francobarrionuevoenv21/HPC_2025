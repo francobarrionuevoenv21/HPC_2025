{
  "nbformat": 4,
  "nbformat_minor": 0,
  "metadata": {
    "colab": {
      "provenance": [],
      "gpuType": "T4",
      "include_colab_link": true
    },
    "kernelspec": {
      "name": "python3",
      "display_name": "Python 3"
    },
    "language_info": {
      "name": "python"
    },
    "accelerator": "GPU"
  },
  "cells": [
    {
      "cell_type": "markdown",
      "metadata": {
        "id": "view-in-github",
        "colab_type": "text"
      },
      "source": [
        "<a href=\"https://colab.research.google.com/github/francobarrionuevoenv21/HPC_2025/blob/main/CA_Implt_GPUs_HPC2025.ipynb\" target=\"_parent\"><img src=\"https://colab.research.google.com/assets/colab-badge.svg\" alt=\"Open In Colab\"/></a>"
      ]
    },
    {
      "cell_type": "code",
      "source": [
        "!pip install pycuda"
      ],
      "metadata": {
        "colab": {
          "base_uri": "https://localhost:8080/"
        },
        "id": "JXybQY85qQ6f",
        "outputId": "09b8e772-9940-4b73-acd5-80c95776310c"
      },
      "execution_count": 1,
      "outputs": [
        {
          "output_type": "stream",
          "name": "stdout",
          "text": [
            "Collecting pycuda\n",
            "  Downloading pycuda-2025.1.2.tar.gz (1.7 MB)\n",
            "\u001b[?25l     \u001b[90m━━━━━━━━━━━━━━━━━━━━━━━━━━━━━━━━━━━━━━━━\u001b[0m \u001b[32m0.0/1.7 MB\u001b[0m \u001b[31m?\u001b[0m eta \u001b[36m-:--:--\u001b[0m\r\u001b[2K     \u001b[91m━━━━━━━━━━━━━━━━━━━━━━━━━━━━━━━━━\u001b[0m\u001b[90m╺\u001b[0m\u001b[90m━━━━━━\u001b[0m \u001b[32m1.4/1.7 MB\u001b[0m \u001b[31m40.6 MB/s\u001b[0m eta \u001b[36m0:00:01\u001b[0m\r\u001b[2K     \u001b[90m━━━━━━━━━━━━━━━━━━━━━━━━━━━━━━━━━━━━━━━━\u001b[0m \u001b[32m1.7/1.7 MB\u001b[0m \u001b[31m31.1 MB/s\u001b[0m eta \u001b[36m0:00:00\u001b[0m\n",
            "\u001b[?25h  Installing build dependencies ... \u001b[?25l\u001b[?25hdone\n",
            "  Getting requirements to build wheel ... \u001b[?25l\u001b[?25hdone\n",
            "  Preparing metadata (pyproject.toml) ... \u001b[?25l\u001b[?25hdone\n",
            "Collecting pytools>=2011.2 (from pycuda)\n",
            "  Downloading pytools-2025.2.4-py3-none-any.whl.metadata (2.9 kB)\n",
            "Requirement already satisfied: platformdirs>=2.2.0 in /usr/local/lib/python3.12/dist-packages (from pycuda) (4.4.0)\n",
            "Requirement already satisfied: mako in /usr/local/lib/python3.12/dist-packages (from pycuda) (1.3.10)\n",
            "Collecting siphash24>=1.6 (from pytools>=2011.2->pycuda)\n",
            "  Downloading siphash24-1.8-cp312-cp312-manylinux2014_x86_64.manylinux_2_17_x86_64.manylinux_2_28_x86_64.whl.metadata (3.2 kB)\n",
            "Requirement already satisfied: typing-extensions>=4.5 in /usr/local/lib/python3.12/dist-packages (from pytools>=2011.2->pycuda) (4.15.0)\n",
            "Requirement already satisfied: MarkupSafe>=0.9.2 in /usr/local/lib/python3.12/dist-packages (from mako->pycuda) (3.0.2)\n",
            "Downloading pytools-2025.2.4-py3-none-any.whl (99 kB)\n",
            "\u001b[2K   \u001b[90m━━━━━━━━━━━━━━━━━━━━━━━━━━━━━━━━━━━━━━━━\u001b[0m \u001b[32m99.4/99.4 kB\u001b[0m \u001b[31m10.1 MB/s\u001b[0m eta \u001b[36m0:00:00\u001b[0m\n",
            "\u001b[?25hDownloading siphash24-1.8-cp312-cp312-manylinux2014_x86_64.manylinux_2_17_x86_64.manylinux_2_28_x86_64.whl (103 kB)\n",
            "\u001b[2K   \u001b[90m━━━━━━━━━━━━━━━━━━━━━━━━━━━━━━━━━━━━━━━━\u001b[0m \u001b[32m103.2/103.2 kB\u001b[0m \u001b[31m11.5 MB/s\u001b[0m eta \u001b[36m0:00:00\u001b[0m\n",
            "\u001b[?25hBuilding wheels for collected packages: pycuda\n",
            "  Building wheel for pycuda (pyproject.toml) ... \u001b[?25l\u001b[?25hdone\n",
            "  Created wheel for pycuda: filename=pycuda-2025.1.2-cp312-cp312-linux_x86_64.whl size=659050 sha256=6286366850946cacd4b35a7430993e1a0209e2fe3eb5aa1a7da3b8481e853dbc\n",
            "  Stored in directory: /root/.cache/pip/wheels/d5/36/f3/ac5f09d768cad3fa15d5a3449bdfe65c3de58e69d036c73228\n",
            "Successfully built pycuda\n",
            "Installing collected packages: siphash24, pytools, pycuda\n",
            "Successfully installed pycuda-2025.1.2 pytools-2025.2.4 siphash24-1.8\n"
          ]
        }
      ]
    },
    {
      "cell_type": "code",
      "source": [
        "import pycuda.driver as drv\n",
        "import pycuda.autoinit\n",
        "from pycuda.compiler import SourceModule"
      ],
      "metadata": {
        "id": "-xcA9JO2qR73"
      },
      "execution_count": 2,
      "outputs": []
    },
    {
      "cell_type": "code",
      "source": [
        "import numpy as np\n",
        "import matplotlib.pyplot as plt\n",
        "from matplotlib.colors import ListedColormap\n",
        "import math"
      ],
      "metadata": {
        "id": "34igeoxPqsq8"
      },
      "execution_count": 3,
      "outputs": []
    },
    {
      "cell_type": "code",
      "source": [
        "x = 64\n",
        "y = 64"
      ],
      "metadata": {
        "id": "DbGT9HPTT1xS"
      },
      "execution_count": 4,
      "outputs": []
    },
    {
      "cell_type": "markdown",
      "source": [
        "## NDVI DATA"
      ],
      "metadata": {
        "id": "VXplvuVY_u0v"
      }
    },
    {
      "cell_type": "code",
      "source": [
        "def calculate_p_den(water_thres, low_thres, high_thres, NDVI):\n",
        "    water_value = 'water'\n",
        "    low_value = 'nonflammable'\n",
        "    mid_value = 'medium'\n",
        "    high_value = 'dense'\n",
        "\n",
        "    # Initialize ndvi_grouped with a default value or array\n",
        "    #ndvi_grouped = np.empty_like(NDVI, dtype='<U10') # Using string dtype to hold the category names\n",
        "\n",
        "    ndvi_grouped = np.where(NDVI >= high_thres, high_value, NDVI)\n",
        "    ndvi_grouped = np.where((NDVI >= low_thres) & (NDVI < high_thres), mid_value, ndvi_grouped)\n",
        "    ndvi_grouped = np.where((NDVI >= water_thres) & (NDVI < low_thres), low_value, ndvi_grouped)\n",
        "    # The original code had this condition last, let's keep it for water\n",
        "    ndvi_grouped = np.where(NDVI < water_thres, water_value, ndvi_grouped)\n",
        "\n",
        "\n",
        "    return ndvi_grouped\n",
        "\n",
        "def calculate_p_den_values(den_water, den_low, den_mid, den_high, ndvi_grouped):\n",
        "    p_den = np.zeros_like(ndvi_grouped, dtype=float)  # numeric array\n",
        "\n",
        "    p_den[ndvi_grouped == 'water'] = den_water\n",
        "    p_den[ndvi_grouped == 'nonflammable'] = den_low\n",
        "    p_den[ndvi_grouped == 'medium'] = den_mid\n",
        "    p_den[ndvi_grouped == 'dense'] = den_high\n",
        "\n",
        "    return p_den"
      ],
      "metadata": {
        "id": "0sLzVhMQz5qk"
      },
      "execution_count": 5,
      "outputs": []
    },
    {
      "cell_type": "code",
      "source": [
        "NDVI_random = np.full((y, x), 0.8, dtype= np.float32)   # x-component\n",
        "#np.random.rand(x, y)"
      ],
      "metadata": {
        "id": "t4LpuUXszKvX"
      },
      "execution_count": 6,
      "outputs": []
    },
    {
      "cell_type": "code",
      "source": [
        "NDVI_random"
      ],
      "metadata": {
        "colab": {
          "base_uri": "https://localhost:8080/"
        },
        "id": "NLvkZaWvTpaA",
        "outputId": "fd81bdb8-68d9-402e-ed40-5d8ebe7dc397"
      },
      "execution_count": null,
      "outputs": [
        {
          "output_type": "execute_result",
          "data": {
            "text/plain": [
              "array([[0.8, 0.8, 0.8, 0.8, 0.8, 0.8, 0.8],\n",
              "       [0.8, 0.8, 0.8, 0.8, 0.8, 0.8, 0.8],\n",
              "       [0.8, 0.8, 0.8, 0.8, 0.8, 0.8, 0.8],\n",
              "       [0.8, 0.8, 0.8, 0.8, 0.8, 0.8, 0.8],\n",
              "       [0.8, 0.8, 0.8, 0.8, 0.8, 0.8, 0.8],\n",
              "       [0.8, 0.8, 0.8, 0.8, 0.8, 0.8, 0.8],\n",
              "       [0.8, 0.8, 0.8, 0.8, 0.8, 0.8, 0.8]], dtype=float32)"
            ]
          },
          "metadata": {},
          "execution_count": 207
        }
      ]
    },
    {
      "cell_type": "code",
      "source": [
        "ndvi= NDVI_random\n",
        "water_thres = 0.1\n",
        "low_thres = 0.5\n",
        "high_thres = 0.7\n",
        "\n",
        "den_water = -1 # Using negative values for water to ensure it can't be enflamed\n",
        "den_low = -1 # These are nonflammable areas\n",
        "den_mid = 0 # These are the general areas\n",
        "den_high = 0.2 # Dense areas have increased change of spreading\n",
        "\n",
        "# Let's group the NDVI using the first function\n",
        "ndvi_grouped = calculate_p_den(water_thres, low_thres, high_thres, ndvi)\n",
        "\n",
        "# p_den is the one that will actually be used for calculation. Not that water and nonflammable are both -1, i.e., nonflammable.\n",
        "# Otherwise, the more vegetation the higher the burn probability\n",
        "p_den = calculate_p_den_values(den_water, den_low, den_mid, den_high, ndvi_grouped).astype(np.float32)\n"
      ],
      "metadata": {
        "id": "bU9S7dqZ2UMD"
      },
      "execution_count": 7,
      "outputs": []
    },
    {
      "cell_type": "code",
      "source": [
        "p_den"
      ],
      "metadata": {
        "colab": {
          "base_uri": "https://localhost:8080/"
        },
        "id": "fkR7mBNaTx7f",
        "outputId": "81d658b3-d9f4-4ef8-8a4f-d65e1c5adcd1"
      },
      "execution_count": 8,
      "outputs": [
        {
          "output_type": "execute_result",
          "data": {
            "text/plain": [
              "array([[0.2, 0.2, 0.2, ..., 0.2, 0.2, 0.2],\n",
              "       [0.2, 0.2, 0.2, ..., 0.2, 0.2, 0.2],\n",
              "       [0.2, 0.2, 0.2, ..., 0.2, 0.2, 0.2],\n",
              "       ...,\n",
              "       [0.2, 0.2, 0.2, ..., 0.2, 0.2, 0.2],\n",
              "       [0.2, 0.2, 0.2, ..., 0.2, 0.2, 0.2],\n",
              "       [0.2, 0.2, 0.2, ..., 0.2, 0.2, 0.2]], dtype=float32)"
            ]
          },
          "metadata": {},
          "execution_count": 8
        }
      ]
    },
    {
      "cell_type": "code",
      "source": [
        "cmap_123 = ListedColormap(['darkgreen']) # ['blue', 'goldenrod', 'limegreen', 'darkgreen']\n",
        "plt.imshow(p_den, cmap=cmap_123)\n",
        "plt.show()"
      ],
      "metadata": {
        "colab": {
          "base_uri": "https://localhost:8080/",
          "height": 432
        },
        "id": "ogSqLVV_uYSY",
        "outputId": "fc0f583f-0136-4dfa-aee9-0bc2f85e4773"
      },
      "execution_count": 9,
      "outputs": [
        {
          "output_type": "display_data",
          "data": {
            "text/plain": [
              "<Figure size 640x480 with 1 Axes>"
            ],
            "image/png": "[encoded data removed]"
          },
          "metadata": {}
        }
      ]
    },
    {
      "cell_type": "markdown",
      "source": [
        "## INITIALIZATION"
      ],
      "metadata": {
        "id": "A4AViau0sgYm"
      }
    },
    {
      "cell_type": "code",
      "source": [
        "#state = np.zeros((x, y)).astype(np.float32)\n",
        "#state = np.ones((x, y))#.astype(np.float32)\n",
        "state = np.zeros((rows, cols), dtype=np.int32)  # Explicitly use int32\n",
        "\n",
        "FP_lon_index = int(x/2)\n",
        "FP_lat_index = int(y/2)\n",
        "\n",
        "state[FP_lon_index, FP_lat_index] = 1"
      ],
      "metadata": {
        "id": "Za_7mORssfrO"
      },
      "execution_count": null,
      "outputs": []
    },
    {
      "cell_type": "code",
      "source": [
        "state"
      ],
      "metadata": {
        "colab": {
          "base_uri": "https://localhost:8080/"
        },
        "id": "xVn2YS4wUYf5",
        "outputId": "43a987e9-627b-43c4-c55c-d67dd8064d31"
      },
      "execution_count": null,
      "outputs": [
        {
          "output_type": "execute_result",
          "data": {
            "text/plain": [
              "array([[1, 1, 1, 1, 1, 1, 1],\n",
              "       [1, 1, 1, 1, 1, 1, 1],\n",
              "       [1, 1, 1, 1, 1, 1, 1],\n",
              "       [1, 1, 1, 1, 1, 1, 1],\n",
              "       [1, 1, 1, 1, 1, 1, 1],\n",
              "       [1, 1, 1, 1, 1, 1, 1],\n",
              "       [1, 1, 1, 1, 1, 1, 1]], dtype=int32)"
            ]
          },
          "metadata": {},
          "execution_count": 210
        }
      ]
    },
    {
      "cell_type": "code",
      "source": [
        "cmap_123 = ListedColormap(['darkgreen', 'red']) # ['blue', 'goldenrod', 'limegreen', 'darkgreen']\n",
        "plt.imshow(state, cmap=cmap_123)\n",
        "plt.show()"
      ],
      "metadata": {
        "colab": {
          "base_uri": "https://localhost:8080/",
          "height": 430
        },
        "id": "wPApB7NLuCpK",
        "outputId": "184ee69f-5239-40eb-8a93-73a190187285"
      },
      "execution_count": null,
      "outputs": [
        {
          "output_type": "display_data",
          "data": {
            "text/plain": [
              "<Figure size 640x480 with 1 Axes>"
            ],
            "image/png": "[encoded data removed]"
          },
          "metadata": {}
        }
      ]
    },
    {
      "cell_type": "code",
      "source": [
        "T = 1\n",
        "#random_p = np.random.rand(T, x, y).astype(np.float32)\n",
        "random_p = np.zeros((x, y), dtype=np.float32)"
      ],
      "metadata": {
        "id": "5lm4dTlN9LZN"
      },
      "execution_count": 10,
      "outputs": []
    },
    {
      "cell_type": "code",
      "source": [
        "random_p"
      ],
      "metadata": {
        "colab": {
          "base_uri": "https://localhost:8080/"
        },
        "id": "16WAaKTnU6hB",
        "outputId": "d47d433b-4b0f-4bf8-a295-abf08b7bcc18"
      },
      "execution_count": null,
      "outputs": [
        {
          "output_type": "execute_result",
          "data": {
            "text/plain": [
              "array([[0., 0., 0., 0., 0., 0., 0.],\n",
              "       [0., 0., 0., 0., 0., 0., 0.],\n",
              "       [0., 0., 0., 0., 0., 0., 0.],\n",
              "       [0., 0., 0., 0., 0., 0., 0.],\n",
              "       [0., 0., 0., 0., 0., 0., 0.],\n",
              "       [0., 0., 0., 0., 0., 0., 0.],\n",
              "       [0., 0., 0., 0., 0., 0., 0.]], dtype=float32)"
            ]
          },
          "metadata": {},
          "execution_count": 217
        }
      ]
    },
    {
      "cell_type": "code",
      "source": [
        "p_h = 0.6\n",
        "p_burn = p_h*(1+p_den)"
      ],
      "metadata": {
        "id": "ColJjOS6u3-H"
      },
      "execution_count": 11,
      "outputs": []
    },
    {
      "cell_type": "code",
      "source": [
        "p_burn"
      ],
      "metadata": {
        "colab": {
          "base_uri": "https://localhost:8080/"
        },
        "id": "uXFiedBku96_",
        "outputId": "42e62d9b-721f-45a3-d6aa-bb496d2dd5e2"
      },
      "execution_count": null,
      "outputs": [
        {
          "output_type": "execute_result",
          "data": {
            "text/plain": [
              "array([[0.72, 0.72, 0.72, 0.72, 0.72, 0.72, 0.72],\n",
              "       [0.72, 0.72, 0.72, 0.72, 0.72, 0.72, 0.72],\n",
              "       [0.72, 0.72, 0.72, 0.72, 0.72, 0.72, 0.72],\n",
              "       [0.72, 0.72, 0.72, 0.72, 0.72, 0.72, 0.72],\n",
              "       [0.72, 0.72, 0.72, 0.72, 0.72, 0.72, 0.72],\n",
              "       [0.72, 0.72, 0.72, 0.72, 0.72, 0.72, 0.72],\n",
              "       [0.72, 0.72, 0.72, 0.72, 0.72, 0.72, 0.72]], dtype=float32)"
            ]
          },
          "metadata": {},
          "execution_count": 219
        }
      ]
    },
    {
      "cell_type": "markdown",
      "source": [
        "## GPU IMPLEMENTATION"
      ],
      "metadata": {
        "id": "gLrJlRqNKvN_"
      }
    },
    {
      "cell_type": "code",
      "source": [
        "# 1. Definir kenel\n",
        "mod = SourceModule (\"\"\"\n",
        "    __global__ void compute_AC(int *state, float *ndvi, float *randm, int rows, int cols) {\n",
        "        int row = (blockDim.x * blockIdx.x) + threadIdx.x;\n",
        "        int col = (blockDim.y * blockIdx.y) + threadIdx.y;\n",
        "\n",
        "        if ((row < rows) && (col < cols)) {\n",
        "            int i = (row * cols) + col;    /* Row major */\n",
        "\n",
        "            // Neighbors index\n",
        "            int up          = i - cols;        // (row-1, col)\n",
        "            int down        = i + cols;        // (row+1, col)\n",
        "            int left        = i - 1;           // (row, col-1)\n",
        "            int right       = i + 1;           // (row, col+1)\n",
        "            int up_left     = i - cols - 1;    // (row-1, col-1)\n",
        "            int up_right    = i - cols + 1;    // (row-1, col+1)\n",
        "            int down_left   = i + cols - 1;    // (row+1, col-1)\n",
        "            int down_right  = i + cols + 1;    // (row+1, col+1)\n",
        "\n",
        "            // State update rules\n",
        "            if (state[i] == 2){\n",
        "                state[i] = 2;\n",
        "            } else if (state[i] == 1){\n",
        "                state[i] = 2;\n",
        "            } else if (state[up] == 1 || state[down] == 1 || state[left] == 1 || state[right] == 1 ||\n",
        "                      state[up_left] == 1 || state[up_right] == 1 || state[down_left] == 1 || state[down_right] == 1) {\n",
        "\n",
        "                if (randm[i] < ndvi[i]) {\n",
        "                    state[i] = 1;\n",
        "                } else {\n",
        "                    state[i] = 0;\n",
        "                }\n",
        "            } else {\n",
        "                state[i] = 0;\n",
        "            }\n",
        "        }\n",
        "    }\n",
        "    \"\"\")"
      ],
      "metadata": {
        "id": "uhlDM0z0sqyH"
      },
      "execution_count": 12,
      "outputs": []
    },
    {
      "cell_type": "code",
      "source": [
        "# 1. Definir kenel\n",
        "mod = SourceModule (\"\"\"\n",
        "  __global__ void compute_AC(int *state, float *ndvi, float *randm, int rows, int cols) {\n",
        "      int row = blockIdx.y * blockDim.y + threadIdx.y;\n",
        "      int col = blockIdx.x * blockDim.x + threadIdx.x;\n",
        "\n",
        "      if ((row < rows) && (col < cols)) {\n",
        "          int i = row * cols + col;\n",
        "\n",
        "          if (state[i] == 2){\n",
        "              state[i] = 2;\n",
        "          } else if (state[i] == 1){\n",
        "              state[i] = 2;\n",
        "          } else if (state[i-cols] == 1 || state[i+cols] == 1 ||\n",
        "                    state[i-1] == 1    || state[i+1] == 1    ||\n",
        "                    state[i-cols-1] == 1 || state[i-cols+1] == 1 ||\n",
        "                    state[i+cols-1] == 1 || state[i+cols+1] == 1) {\n",
        "\n",
        "              if (randm[i] < ndvi[i]) {\n",
        "                  state[i] = 1;\n",
        "              }\n",
        "          }\n",
        "      }\n",
        "  }\n",
        "    \"\"\")"
      ],
      "metadata": {
        "id": "mnGq_a5FM-mH"
      },
      "execution_count": null,
      "outputs": []
    },
    {
      "cell_type": "code",
      "source": [
        "          } else {\n",
        "              state[i] = 0;\n",
        "          }"
      ],
      "metadata": {
        "id": "vbrtGpmaOAUP"
      },
      "execution_count": null,
      "outputs": []
    },
    {
      "cell_type": "code",
      "source": [
        "                (row < rows-1 && state_old[i+cols] == 1) ||\n",
        "                (col > 0 && state_old[i-1] == 1) ||\n",
        "                (col < cols-1 && state_old[i+1] == 1) ||\n",
        "                (row > 0 && col > 0 && state_old[i-cols-1] == 1) ||\n",
        "                (row > 0 && col < cols-1 && state_old[i-cols+1] == 1) ||\n",
        "                (row < rows-1 && col > 0 && state_old[i+cols-1] == 1) ||\n",
        "                (row < rows-1 && col < cols-1 && state_old[i+cols+1] == 1)\n",
        "\n",
        "                else if (\n",
        "                (row > 0 && state_old[i-cols] == 1)){\n",
        "                if (randm[i] < ndvi[i]) {\n",
        "                    state[i] = 1;\n",
        "                }"
      ],
      "metadata": {
        "id": "VNIopXksWHR-"
      },
      "execution_count": null,
      "outputs": []
    },
    {
      "cell_type": "code",
      "source": [],
      "metadata": {
        "id": "QkknwfFrZ_IF"
      },
      "execution_count": null,
      "outputs": []
    },
    {
      "cell_type": "code",
      "source": [
        "mod = SourceModule (\"\"\"\n",
        "    __global__ void compute_AC(int *state, float *ndvi, float *randm, int rows, int cols){\n",
        "    int row = blockIdx.y * blockDim.y + threadIdx.y;\n",
        "    int col = blockIdx.x * blockDim.x + threadIdx.x;\n",
        "\n",
        "    if (row < rows && col < cols) {\n",
        "        int i = row * cols + col;\n",
        "\n",
        "        if (state[i] == 2){\n",
        "              state[i] = 2;\n",
        "        } else if (state[i-cols] == 1 || state[i+cols] == 1 ||\n",
        "                    state[i-1] == 1    || state[i+1] == 1    ||\n",
        "                    state[i-cols-1] == 1 || state[i-cols+1] == 1 ||\n",
        "                    state[i+cols-1] == 1 || state[i+cols+1] == 1) {\n",
        "\n",
        "          if (randm[i] < ndvi[i]) {\n",
        "            state[i] = 1;\n",
        "          } else {\n",
        "            state[i] = 0;\n",
        "          }\n",
        "        } else if (state[i] == 1) {\n",
        "            state[i] = 2;\n",
        "        } else {\n",
        "          state[i] = 0;\n",
        "        }\n",
        "      } // <-- This bracket closes the if (row < rows && col < cols)\n",
        "    } // <-- This bracket closes the function\n",
        "    \"\"\")"
      ],
      "metadata": {
        "id": "nxopPDFAblJ_"
      },
      "execution_count": 13,
      "outputs": []
    },
    {
      "cell_type": "code",
      "source": [
        "#state = np.ones((rows, cols), dtype=np.int32)  # Explicitly use int32"
      ],
      "metadata": {
        "id": "0AaIOAMihAU2"
      },
      "execution_count": null,
      "outputs": []
    },
    {
      "cell_type": "code",
      "source": [
        "cols = x\n",
        "rows = y\n",
        "\n",
        "state = np.zeros((rows, cols), dtype=np.int32)\n",
        "FP_lon_index = int(x/2)\n",
        "FP_lat_index = int(y/2)\n",
        "state[FP_lon_index, FP_lat_index] = 1\n",
        "\n",
        "# Get the kernel function\n",
        "compute_AC = mod.get_function(\"compute_AC\")\n",
        "\n",
        "# Allocate GPU memory\n",
        "state_gpu = drv.mem_alloc(state.nbytes)\n",
        "state_old_gpu = drv.mem_alloc(state.nbytes)\n",
        "ndvi_gpu = drv.mem_alloc(ndvi.nbytes)\n",
        "#randm_gpu = drv.mem_alloc(randm.nbytes)  # Use randm, not random_p\n",
        "randm_gpu = drv.mem_alloc(random_p.nbytes)  # Use randm, not random_p\n",
        "\n",
        "# Copy initial data to GPU\n",
        "drv.memcpy_htod(state_gpu, state)\n",
        "drv.memcpy_htod(ndvi_gpu, ndvi)\n",
        "\n",
        "# Define block and grid dimensions\n",
        "block_dim = (16, 16, 1)\n",
        "grid_dim = ((cols + block_dim[0] - 1) // block_dim[0],\n",
        "           (rows + block_dim[1] - 1) // block_dim[1], 1)\n",
        "\n",
        "# Time loop\n",
        "for t in range(10):\n",
        "\n",
        "    '''# Copy current state to old state\n",
        "    drv.memcpy_dtod(state_old_gpu, state_gpu, state.nbytes)'''\n",
        "\n",
        "    # Generate new random values for this iteration (if needed)\n",
        "    random_p = np.random.random((rows, cols)).astype(np.float32)\n",
        "    drv.memcpy_htod(randm_gpu, random_p)\n",
        "\n",
        "    # Launch kernel\n",
        "    compute_AC(\n",
        "        state_gpu,\n",
        "        ndvi_gpu,\n",
        "        randm_gpu,\n",
        "        np.int32(rows),\n",
        "        np.int32(cols),\n",
        "        block=block_dim,\n",
        "        grid=grid_dim\n",
        "    )\n",
        "\n",
        "    '''# Copy current state to old state\n",
        "    drv.memcpy_dtod(state_old_gpu, state_gpu, state.nbytes)'''\n",
        "\n",
        "    '''# Optional: Copy back and print intermediate results\n",
        "    if t % 1 == 0:  # Print every iteration\n",
        "        temp_result = np.empty_like(state)\n",
        "        drv.memcpy_dtoh(temp_result, state_gpu)\n",
        "        print(f\"Iteration {t}:\")\n",
        "        print(temp_result)\n",
        "        print()'''\n",
        "\n",
        "    # Copy current state to old state\n",
        "    drv.memcpy_dtod(state_old_gpu, state_gpu, state.nbytes)\n",
        "\n",
        "\n",
        "# Copy final result back to CPU\n",
        "result = np.empty_like(state)\n",
        "drv.memcpy_dtoh(result, state_gpu)\n",
        "print(\"Final result:\")\n",
        "print(result)"
      ],
      "metadata": {
        "id": "e6akfTGtfy_N",
        "outputId": "2d1d656e-e9ca-4e02-e548-69395bb0720c",
        "colab": {
          "base_uri": "https://localhost:8080/"
        }
      },
      "execution_count": 23,
      "outputs": [
        {
          "output_type": "stream",
          "name": "stdout",
          "text": [
            "Final result:\n",
            "[[0 0 0 ... 0 0 0]\n",
            " [0 0 0 ... 0 0 0]\n",
            " [0 0 0 ... 0 0 0]\n",
            " ...\n",
            " [0 0 0 ... 0 0 0]\n",
            " [0 0 0 ... 0 0 0]\n",
            " [0 0 0 ... 0 0 0]]\n"
          ]
        }
      ]
    },
    {
      "cell_type": "code",
      "source": [
        "cmap_123 = ListedColormap(['darkgreen', 'red']) # ['blue', 'goldenrod', 'limegreen', 'darkgreen']\n",
        "plt.imshow(result, cmap=cmap_123)\n",
        "plt.show()"
      ],
      "metadata": {
        "id": "cthz5W5qpVMW",
        "outputId": "a068802e-873d-466e-a48c-9d002862f2bf",
        "colab": {
          "base_uri": "https://localhost:8080/",
          "height": 432
        }
      },
      "execution_count": 24,
      "outputs": [
        {
          "output_type": "display_data",
          "data": {
            "text/plain": [
              "<Figure size 640x480 with 1 Axes>"
            ],
            "image/png": "[encoded data removed]"
          },
          "metadata": {}
        }
      ]
    },
    {
      "cell_type": "code",
      "source": [
        "x, y"
      ],
      "metadata": {
        "id": "ywTOQA6kWYgl",
        "outputId": "b8e68fa1-beea-4972-d66e-d153e6dda4ad",
        "colab": {
          "base_uri": "https://localhost:8080/"
        }
      },
      "execution_count": null,
      "outputs": [
        {
          "output_type": "execute_result",
          "data": {
            "text/plain": [
              "(7, 7)"
            ]
          },
          "metadata": {},
          "execution_count": 145
        }
      ]
    },
    {
      "cell_type": "code",
      "source": [
        "# @title Texto de título predeterminado\n",
        "\n",
        "H = x\n",
        "W = y\n",
        "# T = 1000\n",
        "\n",
        "# 1. Create host matrices\n",
        "state = state.copy()\n",
        "print(\"Initial state:\\n\", state)\n",
        "ndvi  = p_burn.copy()\n",
        "randm = random_p.copy()   # shape = (T, H, W)\n",
        "#print(\"Random check:\\n\", randm[0] < ndvi)\n",
        "\n",
        "# 2. Allocate GPU memory\n",
        "state_gpu = drv.mem_alloc(state.nbytes)      # current state\n",
        "state_old_gpu = drv.mem_alloc(state.nbytes)  # previous state (read-only for kernel)\n",
        "ndvi_gpu  = drv.mem_alloc(ndvi.nbytes)\n",
        "randm_gpu = drv.mem_alloc(randm[0].nbytes)\n",
        "\n",
        "# 3. Copy host → device (initial state and ndvi, constant in time)\n",
        "drv.memcpy_htod(state_gpu, state)\n",
        "drv.memcpy_htod(ndvi_gpu, ndvi)\n",
        "\n",
        "# 4. Setup kernel\n",
        "comp_AC = mod.get_function(\"compute_AC\")\n",
        "\n",
        "#dim = 32\n",
        "#grid_x = math.ceil(H / dim)\n",
        "#grid_y = math.ceil(W / dim)\n",
        "block_dim = (7, 7, 1, )#(dim, dim, 1)\n",
        "grid_dim = (1, 1, 1)#(grid_x, grid_y)\n",
        "\n",
        "'''# 5. Run timesteps\n",
        "for t in range(T):\n",
        "    # Copy this timestep’s random matrix\n",
        "    drv.memcpy_htod(randm_gpu, randm[0])\n",
        "\n",
        "    # copy current state to state_old\n",
        "    drv.memcpy_dtod(state_old_gpu, state_gpu, state.nbytes)\n",
        "\n",
        "    # Run kernel (kernel now takes state_gpu, state_old_gpu, ndvi_gpu, randm_gpu)\n",
        "    comp_AC(state_gpu, ndvi_gpu, randm_gpu,\n",
        "            np.int32(H), np.int32(W),\n",
        "            block=block_dim, grid=grid_dim)\n",
        "\n",
        "    state_gpu, state_old_gpu = state_old_gpu, state_gpu\n",
        "'''\n",
        "comp_AC(state_gpu,\n",
        "            np.int32(H), np.int32(W),\n",
        "            block=block_dim, grid=grid_dim)\n",
        "\n",
        "# 6. Copy final state back\n",
        "final_state = np.empty_like(state)\n",
        "drv.memcpy_dtoh(final_state, state_gpu)\n",
        "print(final_state)"
      ],
      "metadata": {
        "id": "hBS2MvaxqFRw",
        "colab": {
          "base_uri": "https://localhost:8080/"
        },
        "outputId": "88e9eaf5-1ca9-4df0-c33d-dc28990ce875"
      },
      "execution_count": null,
      "outputs": [
        {
          "output_type": "stream",
          "name": "stdout",
          "text": [
            "Initial state:\n",
            " [[1. 1. 1. 1. 1. 1. 1.]\n",
            " [1. 1. 1. 1. 1. 1. 1.]\n",
            " [1. 1. 1. 1. 1. 1. 1.]\n",
            " [1. 1. 1. 1. 1. 1. 1.]\n",
            " [1. 1. 1. 1. 1. 1. 1.]\n",
            " [1. 1. 1. 1. 1. 1. 1.]\n",
            " [1. 1. 1. 1. 1. 1. 1.]]\n",
            "[[1. 1. 1. 1. 1. 1. 1.]\n",
            " [1. 1. 1. 1. 1. 1. 1.]\n",
            " [1. 1. 1. 1. 1. 1. 1.]\n",
            " [1. 1. 1. 1. 1. 1. 1.]\n",
            " [1. 1. 1. 1. 1. 1. 1.]\n",
            " [1. 1. 1. 1. 1. 1. 1.]\n",
            " [1. 1. 1. 1. 1. 1. 1.]]\n"
          ]
        }
      ]
    },
    {
      "cell_type": "code",
      "source": [
        "cmap_123 = ListedColormap(['darkgreen', 'red']) # ['blue', 'goldenrod', 'limegreen', 'darkgreen']\n",
        "plt.imshow(final_state, cmap=cmap_123)\n",
        "plt.show()"
      ],
      "metadata": {
        "colab": {
          "base_uri": "https://localhost:8080/",
          "height": 430
        },
        "id": "xLmqJD02xOkZ",
        "outputId": "61bea1b0-3aa3-4fba-d4f3-82db69b85d0f"
      },
      "execution_count": null,
      "outputs": [
        {
          "output_type": "display_data",
          "data": {
            "text/plain": [
              "<Figure size 640x480 with 1 Axes>"
            ],
            "image/png": "[encoded data removed]"
          },
          "metadata": {}
        }
      ]
    },
    {
      "cell_type": "code",
      "source": [
        "final_state"
      ],
      "metadata": {
        "colab": {
          "base_uri": "https://localhost:8080/"
        },
        "id": "QgeGepGayP7w",
        "outputId": "412c02ab-a573-43b4-d770-1a706dea0cf9"
      },
      "execution_count": null,
      "outputs": [
        {
          "output_type": "execute_result",
          "data": {
            "text/plain": [
              "array([[0., 0., 0., 0., 0., 0., 0.],\n",
              "       [0., 0., 0., 0., 0., 0., 0.],\n",
              "       [0., 0., 0., 0., 0., 0., 0.],\n",
              "       [0., 0., 0., 0., 0., 0., 0.],\n",
              "       [0., 0., 0., 0., 0., 0., 0.],\n",
              "       [0., 0., 0., 0., 0., 0., 0.],\n",
              "       [0., 0., 0., 0., 0., 0., 0.]], dtype=float32)"
            ]
          },
          "metadata": {},
          "execution_count": 65
        }
      ]
    },
    {
      "cell_type": "code",
      "source": [
        "final_state"
      ],
      "metadata": {
        "colab": {
          "base_uri": "https://localhost:8080/"
        },
        "id": "OBZLnCGZyDsA",
        "outputId": "26dc7a61-7734-47ed-9f77-b04591ec025a"
      },
      "execution_count": null,
      "outputs": [
        {
          "output_type": "execute_result",
          "data": {
            "text/plain": [
              "array([[0, 0, 0, ..., 0, 0, 0],\n",
              "       [0, 0, 0, ..., 0, 0, 0],\n",
              "       [0, 0, 0, ..., 0, 0, 0],\n",
              "       ...,\n",
              "       [0, 0, 0, ..., 0, 0, 0],\n",
              "       [0, 0, 0, ..., 0, 0, 0],\n",
              "       [0, 0, 0, ..., 0, 0, 0]])"
            ]
          },
          "metadata": {},
          "execution_count": 66
        }
      ]
    },
    {
      "cell_type": "markdown",
      "source": [
        "## WIND DATA"
      ],
      "metadata": {
        "id": "8XMSJLwQT4w5"
      }
    },
    {
      "cell_type": "code",
      "source": [
        "U = np.full((y, x), 1.0)   # x-component\n",
        "V = np.full((y, x), 1.0)   # y-component"
      ],
      "metadata": {
        "id": "6pyAFByxT4Jx"
      },
      "execution_count": null,
      "outputs": []
    },
    {
      "cell_type": "code",
      "source": [
        "X, Y = np.meshgrid(np.arange(x), np.arange(x))\n",
        "\n",
        "# PLOT WIND DATA SUBSAMPLE\n",
        "plt.figure(figsize=(6,6))\n",
        "plt.quiver(\n",
        "    X[::step, ::step],\n",
        "    Y[::step, ::step],\n",
        "    U[::step, ::step],\n",
        "    V[::step, ::step],\n",
        "    scale=20,\n",
        "    color=\"blue\"\n",
        ")\n",
        "\n",
        "'''plt.quiver(\n",
        "    X,\n",
        "    Y,\n",
        "    U,\n",
        "    V,\n",
        "    scale=20,\n",
        "    color=\"blue\"\n",
        ")'''\n",
        "plt.title(\"Wind Vector Field (Subsampled)\")\n",
        "plt.xlabel(\"X\")\n",
        "plt.ylabel(\"Y\")\n",
        "plt.xlim(30, 90)\n",
        "plt.ylim(0, 90)\n",
        "plt.axis(\"equal\")\n",
        "plt.show()"
      ],
      "metadata": {
        "colab": {
          "base_uri": "https://localhost:8080/",
          "height": 564
        },
        "id": "f61QPV7RZ_4Z",
        "outputId": "f5b3ce14-6501-47f8-c23c-c5713bdc3f58"
      },
      "execution_count": null,
      "outputs": [
        {
          "output_type": "display_data",
          "data": {
            "text/plain": [
              "<Figure size 600x600 with 1 Axes>"
            ],
            "image/png": "[encoded data removed]"
          },
          "metadata": {}
        }
      ]
    },
    {
      "cell_type": "code",
      "source": [
        "n_t = 3 # timesteps\n",
        "\n",
        "# fire_state = lon x lat\n",
        "fire_state = np.zeros((n_t, x, y), dtype=int) #fire_state = np.zeros((n_t, len(x), len(y)), dtype=int)"
      ],
      "metadata": {
        "id": "4GndE6xxp6jJ"
      },
      "execution_count": null,
      "outputs": []
    },
    {
      "cell_type": "code",
      "source": [
        "#p_burn = p_h * (1+p_den) # probability of burning\n",
        "p_h = 0.6\n",
        "p_burn = p_h*(1+p_den)"
      ],
      "metadata": {
        "id": "1vCRivmdApm_"
      },
      "execution_count": null,
      "outputs": []
    },
    {
      "cell_type": "code",
      "source": [
        "p_burn"
      ],
      "metadata": {
        "colab": {
          "base_uri": "https://localhost:8080/"
        },
        "id": "zdjOO5W7Aq1g",
        "outputId": "34361d8e-d315-4b62-815a-2e3db3ddbca5"
      },
      "execution_count": null,
      "outputs": [
        {
          "output_type": "execute_result",
          "data": {
            "text/plain": [
              "array([[0.72, 0.72, 0.  , ..., 0.  , 0.72, 0.6 ],\n",
              "       [0.  , 0.6 , 0.  , ..., 0.72, 0.72, 0.  ],\n",
              "       [0.72, 0.72, 0.72, ..., 0.  , 0.72, 0.  ],\n",
              "       ...,\n",
              "       [0.72, 0.  , 0.72, ..., 0.72, 0.  , 0.  ],\n",
              "       [0.  , 0.72, 0.72, ..., 0.72, 0.6 , 0.72],\n",
              "       [0.72, 0.  , 0.  , ..., 0.72, 0.  , 0.6 ]])"
            ]
          },
          "metadata": {},
          "execution_count": 85
        }
      ]
    },
    {
      "cell_type": "code",
      "source": [
        "#fire_state"
      ],
      "metadata": {
        "id": "9T5eITehrWcp"
      },
      "execution_count": null,
      "outputs": []
    },
    {
      "cell_type": "code",
      "source": [
        "U[34][45], V[34][45]"
      ],
      "metadata": {
        "colab": {
          "base_uri": "https://localhost:8080/"
        },
        "id": "5qMQZg_wfXtq",
        "outputId": "99aed3ea-2cfb-4e96-e97d-307a7e23b049"
      },
      "execution_count": null,
      "outputs": [
        {
          "output_type": "execute_result",
          "data": {
            "text/plain": [
              "(np.float64(1.0), np.float64(1.0))"
            ]
          },
          "metadata": {},
          "execution_count": 56
        }
      ]
    },
    {
      "cell_type": "code",
      "source": [
        "a = np.array([U[34][45], V[34][45]])\n",
        "b = np.array([-1, 0])\n",
        "\n",
        "def same_direction(A, B):\n",
        "  dot = np.dot(A, B)\n",
        "  norm = np.linalg.norm(A) * np.linalg.norm(B)\n",
        "  cos_theta = dot / norm\n",
        "  return cos_theta\n",
        "\n",
        "same_direction(a, b)"
      ],
      "metadata": {
        "colab": {
          "base_uri": "https://localhost:8080/"
        },
        "id": "i1yP907pfk2Q",
        "outputId": "60bafb8f-d25d-4c3b-c5f4-dd9222d12044"
      },
      "execution_count": null,
      "outputs": [
        {
          "output_type": "execute_result",
          "data": {
            "text/plain": [
              "np.float64(-0.7071067811865475)"
            ]
          },
          "metadata": {},
          "execution_count": 59
        }
      ]
    },
    {
      "cell_type": "code",
      "execution_count": null,
      "metadata": {
        "id": "4pjh2c43py-z"
      },
      "outputs": [],
      "source": [
        "for i_t in range(1,n_t):\n",
        "    for i in range(len(x)):\n",
        "        for j in range(len(y)):\n",
        "            # If cell is burnt it remains burnt\n",
        "            if fire_state[i_t-1, i, j] == 2:\n",
        "                fire_state[i_t, i, j] = 2\n",
        "            # If cell was burning it turns into a burnt cell\n",
        "            elif fire_state[i_t-1, i, j] == 1:\n",
        "                fire_state[i_t, i, j] = 2\n",
        "            # If cell is not burning and adjacent cell is burning, calculate if it turns to burning cell\n",
        "            elif (i+1 < len(x) and fire_state[i_t-1, i+1, j] == 1) or \\ # right pixel\n",
        "               (i-1 >= 0 and fire_state[i_t-1, i-1, j] == 1) or \\ # left pixel\n",
        "               (j+1 < len(y) and fire_state[i_t-1, i, j+1] == 1) or \\ # upper pixel\n",
        "               (j-1 >= 0 and fire_state[i_t-1, i, j-1] == 1) or \\ # lower pixel\n",
        "               (i+1 < len(x) and j+1 < len(y) and fire_state[i_t-1, i+1, j+1] == 1) or \\ # upper-right pixel\n",
        "               (i-1 >= 0 and j-1 >= 0 and fire_state[i_t-1, i-1, j-1] == 1) or \\ # lower-left pixel\n",
        "               (i+1 < len(x) and j-1 >= 0 and fire_state[i_t-1, i+1, j-1] == 1) or \\ # lower-right pixel\n",
        "               (i-1 >= 0 and j+1 < len(y) and fire_state[i_t-1, i-1, j+1] == 1): # upper-left pixel\n",
        "                if np.random.rand() < p_burn[i,j]:\n",
        "                    fire_state[i_t, i, j] = 1\n",
        "                else:\n",
        "                    fire_state[i_t, i, j] = 0\n",
        "            # All cells that are not burning and not adjacent to a burning cell remain unburnt\n",
        "            else:\n",
        "                fire_state[i_t, i, j] = fire_state[i_t-1, i, j]"
      ]
    },
    {
      "cell_type": "markdown",
      "source": [
        "# USELESS"
      ],
      "metadata": {
        "id": "6ezNZzB9qLzH"
      }
    },
    {
      "cell_type": "code",
      "source": [
        "#  2D / 1 Block\n",
        "#   doblar matriz\n",
        "#   Implementación con SourceModule de duplicar elementos de una matriz.\n",
        "\n",
        "\n",
        "!pip install pycuda\n",
        "\n",
        "import pycuda.driver as drv\n",
        "import pycuda.autoinit\n",
        "from   pycuda.compiler import SourceModule\n",
        "import numpy as np\n",
        "import time\n",
        "\n",
        "\n",
        "if __name__ == '__main__':\n",
        "\n",
        "    # Parametros de configuracion:\n",
        "    drv.init()\n",
        "    dev = drv.Device(0) # Device 0\n",
        "    max_thr_per_blk = dev.MAX_THREADS_PER_BLOCK\n",
        "    print(\"MAX_THREADS_PER_BLOCK: \", max_thr_per_blk)\n",
        "\n",
        "    # 1. Definir kenel\n",
        "    mod = SourceModule (\"\"\"\n",
        "    __global__ void doblar_matriz(float *a) {\n",
        "        int row = (blockDim.x * blockIdx.x) + threadIdx.x;\n",
        "        int col = (blockDim.y * blockIdx.y) + threadIdx.y;\n",
        "\n",
        "        if ((row < 5) && (col < 5)) {\n",
        "            int i = (row * 5) + col;   /* Row major */\n",
        "            a[i] = a[i] * 2;\n",
        "        }\n",
        "    }\n",
        "    \"\"\")\n",
        "\n",
        "    # 2. Reserva memoria en GPU:\n",
        "    H = 64\n",
        "    W = 64\n",
        "    a = np.arange(H * W, dtype=np.float32).reshape(H, W)\n",
        "    print(\"Matriz:\", a, a.nbytes)\n",
        "    a_gpu = drv.mem_alloc(a.nbytes) # mem_alloc(size) asks the GPU to reserve size bytes in global memory\n",
        "\n",
        "    # 3. Transferir datos host->GPU\n",
        "    drv.memcpy_htod(a_gpu, a)\n",
        "\n",
        "    # 4. Invoca kernel\n",
        "    comp_AC = mod.get_function(\"compute_AC\")\n",
        "    comp_AC(a_gpu, block = (H, W, 1),\n",
        "                  grid  = (1, 1, 1))\n",
        "\n",
        "    # 5. Transferir datos GPU->host\n",
        "    a_doubled = np.arange(H * W, dtype=np.float32)\n",
        "    drv.memcpy_dtoh(a_doubled, a_gpu)\n",
        "\n",
        "    print(\"Matriz doble:\", a_doubled.reshape(H, W))"
      ],
      "metadata": {
        "id": "92FSsHipKuML"
      },
      "execution_count": null,
      "outputs": []
    },
    {
      "cell_type": "code",
      "source": [
        "# 1. Definir kenel\n",
        "    mod = SourceModule (\"\"\"\n",
        "    __global__ void compute_AC(int *state, float *ndvi, float *randm, int rows, int cols) {\n",
        "        int row = (blockDim.x * blockIdx.x) + threadIdx.x;\n",
        "        int col = (blockDim.y * blockIdx.y) + threadIdx.y;\n",
        "\n",
        "        if ((row < rows) && (col < cols)) {\n",
        "            int i = (row * cols) + col;    /* Row major */\n",
        "\n",
        "            // Neighbors index\n",
        "            int up          = i - cols;        // (row-1, col)\n",
        "            int down        = i + cols;        // (row+1, col)\n",
        "            int left        = i - 1;           // (row, col-1)\n",
        "            int right       = i + 1;           // (row, col+1)\n",
        "            int up_left     = i - cols - 1;    // (row-1, col-1)\n",
        "            int up_right    = i - cols + 1;    // (row-1, col+1)\n",
        "            int down_left   = i + cols - 1;    // (row+1, col-1)\n",
        "            int down_right  = i + cols + 1;    // (row+1, col+1)\n",
        "\n",
        "            // Neighbors check. Boundaries check not implement. ¡BE CAREFUL WITH ITERATIONS!\n",
        "            //a[i] = a[i] * 2;\n",
        "\n",
        "            if (state[i] == 2){ // If cell is burnt it remains burnt\n",
        "                state[i] = 2;\n",
        "            } else if (state[i] == 1){ // If cell was burning it turns into a burnt cell\n",
        "                state[i] = 2;\n",
        "            } if (state[up] == 1 || state[down] == 1 || state[left] == 1 || state[right] == 1 || state[up_left] == 1 || state[up_right] == 1 || state[down_left] == 1 || state[down_right] == 1) {\n",
        "                if (randm[i] < ndvi[i]) {\n",
        "                    state[i] = 1;\n",
        "                } else {\n",
        "                    state[i] = 0;\n",
        "                }\n",
        "              else{\n",
        "                state[i] = 0;\n",
        "              }\n",
        "            }\n",
        "        }\n",
        "    }\n",
        "    \"\"\")"
      ],
      "metadata": {
        "id": "vfjl_CKoRPAI"
      },
      "execution_count": null,
      "outputs": []
    },
    {
      "cell_type": "code",
      "source": [
        "## ALTERNATIVE\n",
        "\n",
        "# 1. Definir kernel\n",
        "    mod = SourceModule (\"\"\"\n",
        "    __global__ void compute_AC(int *state, float *ndvi, float *randm, int rows, int cols) {\n",
        "        int row = (blockDim.x * blockIdx.x) + threadIdx.x;\n",
        "        int col = (blockDim.y * blockIdx.y) + threadIdx.y;\n",
        "\n",
        "        if ((row < rows) && (col < cols)) {\n",
        "            int i = (row * cols) + col;    /* Row major */\n",
        "\n",
        "            // Neighbors index\n",
        "            int up          = i - cols;        // (row-1, col)\n",
        "            int down        = i + cols;        // (row+1, col)\n",
        "            int left        = i - 1;           // (row, col-1)\n",
        "            int right       = i + 1;           // (row, col+1)\n",
        "            int up_left     = i - cols - 1;    // (row-1, col-1)\n",
        "            int up_right    = i - cols + 1;    // (row-1, col+1)\n",
        "            int down_left   = i + cols - 1;    // (row+1, col-1)\n",
        "            int down_right  = i + cols + 1;    // (row+1, col+1)\n",
        "\n",
        "            // Neighbors check. Boundaries check not implement. ¡BE CAREFUL WITH ITERATIONS\n",
        "\n",
        "\n",
        "            // PREDICATED APPROACH\n",
        "            int new_state = 0;  // default: not burning\n",
        "\n",
        "            // If burnt or burning, it becomes burnt\n",
        "            new_state = (state[i] >= 1) ? 2 : 0;\n",
        "\n",
        "            // If any neighbor is burning\n",
        "            int neighbor_burning = (state[up]==1) || (state[down]==1) || (state[left]==1) || (state[right]==1) ||\n",
        "                                  (state[up_left]==1) || (state[up_right]==1) || (state[down_left]==1) || (state[down_right]==1);\n",
        "\n",
        "            // Apply spreading probability only if cell is not already burning/burnt\n",
        "            new_state = (new_state == 0 && neighbor_burning && randm[i] < ndvi[i]) ? 1 : new_state;\n",
        "\n",
        "            state[i] = new_state;\n",
        "        }\n",
        "    }\n",
        "    \"\"\")"
      ],
      "metadata": {
        "id": "tp0VT4iKl364"
      },
      "execution_count": null,
      "outputs": []
    },
    {
      "cell_type": "code",
      "source": [
        "# 1. Definir kenel\n",
        "    mod = SourceModule (\"\"\"\n",
        "    __global__ void compute_AC(int *state, float *ndvi, float *randm, int rows, int cols) {\n",
        "        int row = (blockDim.x * blockIdx.x) + threadIdx.x;\n",
        "        int col = (blockDim.y * blockIdx.y) + threadIdx.y;\n",
        "\n",
        "        if ((row < rows) && (col < cols)) {\n",
        "            int i = (row * cols) + col;    /* Row major */\n",
        "\n",
        "            // Neighbors index\n",
        "            int up          = i - cols;        // (row-1, col)\n",
        "            int down        = i + cols;        // (row+1, col)\n",
        "            int left        = i - 1;           // (row, col-1)\n",
        "            int right       = i + 1;           // (row, col+1)\n",
        "            int up_left     = i - cols - 1;    // (row-1, col-1)\n",
        "            int up_right    = i - cols + 1;    // (row-1, col+1)\n",
        "            int down_left   = i + cols - 1;    // (row+1, col-1)\n",
        "            int down_right  = i + cols + 1;    // (row+1, col+1)\n",
        "\n",
        "            // Neighbors check. Boundaries check not implement. ¡BE CAREFUL WITH ITERATIONS\n",
        "\n",
        "            // PREDICATED APPROACH\n",
        "            int new_state = 0;  // default: not burning\n",
        "\n",
        "            // If burnt or burning, it becomes burnt\n",
        "            new_state = (state[i] >= 1) ? 2 : 0;\n",
        "\n",
        "            // If any neighbor is burning\n",
        "            int neighbor_burning = (state[up]==1) || (state[down]==1) || (state[left]==1) || (state[right]==1) ||\n",
        "                                  (state[up_left]==1) || (state[up_right]==1) || (state[down_left]==1) || (state[down_right]==1);\n",
        "\n",
        "            // Apply spreading probability only if cell is not already burning/burnt\n",
        "            new_state = (new_state == 0 && neighbor_burning && randm[i] < ndvi[i]) ? 1 : new_state;\n",
        "\n",
        "            state[i] = new_state;\n",
        "        }\n",
        "    }\n",
        "    \"\"\")\n",
        "\n",
        "H = 64\n",
        "W = 64\n",
        "\n",
        "# 1. Create host matrices\n",
        "state = #\n",
        "ndvi  = #\n",
        "randm = #\n",
        "\n",
        "# 2. Allocate GPU memory\n",
        "state_gpu = drv.mem_alloc(state.nbytes)\n",
        "ndvi_gpu  = drv.mem_alloc(ndvi.nbytes)\n",
        "randm_gpu = drv.mem_alloc(randm.nbytes)\n",
        "\n",
        "# 3. Copy host → device\n",
        "drv.memcpy_htod(state_gpu, state)\n",
        "drv.memcpy_htod(ndvi_gpu, ndvi)\n",
        "drv.memcpy_htod(randm_gpu, randm)\n",
        "\n",
        "# 4. Invoke kernel (assuming you already compiled your CUDA source into 'mod')\n",
        "comp_AC = mod.get_function(\"compute_AC\")\n",
        "\n",
        "dim =32\n",
        "grid_x = math.ceil(H / dim)\n",
        "grid_y = math.ceil(W / dim)\n",
        "\n",
        "# Call kernel with 5 parameters\n",
        "state_old = state_gpu.copy()  # first copy\n",
        "'''\n",
        "Double-buffering: Some cells might ignite sooner than they should, because they\n",
        "see neighbors that have already been updated in this iteration.\n",
        "'''\n",
        "\n",
        "for t in range(T):\n",
        "    comp_AC(state_old, ndvi_gpu, randm_gpu, np.intc(H), np.intc(W),\n",
        "            block=block_dim, grid=grid_dim)\n",
        "\n",
        "    # swap buffers\n",
        "    state_old, state_gpu = state_gpu, state_old"
      ],
      "metadata": {
        "id": "BIxSF69sRIop"
      },
      "execution_count": null,
      "outputs": []
    },
    {
      "cell_type": "code",
      "source": [
        "!pip install pycuda"
      ],
      "metadata": {
        "colab": {
          "base_uri": "https://localhost:8080/"
        },
        "id": "AysmqNHLLwdh",
        "outputId": "d13ac653-e49d-4fd7-f9a7-89cac4f99a66"
      },
      "execution_count": null,
      "outputs": [
        {
          "output_type": "stream",
          "name": "stdout",
          "text": [
            "Collecting pycuda\n",
            "  Downloading pycuda-2025.1.2.tar.gz (1.7 MB)\n",
            "\u001b[?25l     \u001b[90m━━━━━━━━━━━━━━━━━━━━━━━━━━━━━━━━━━━━━━━━\u001b[0m \u001b[32m0.0/1.7 MB\u001b[0m \u001b[31m?\u001b[0m eta \u001b[36m-:--:--\u001b[0m\r\u001b[2K     \u001b[91m━━━━━━━━━━━━━━━━━━━━━━━━━━━\u001b[0m\u001b[90m╺\u001b[0m\u001b[90m━━━━━━━━━━━━\u001b[0m \u001b[32m1.2/1.7 MB\u001b[0m \u001b[31m34.7 MB/s\u001b[0m eta \u001b[36m0:00:01\u001b[0m\r\u001b[2K     \u001b[90m━━━━━━━━━━━━━━━━━━━━━━━━━━━━━━━━━━━━━━━━\u001b[0m \u001b[32m1.7/1.7 MB\u001b[0m \u001b[31m32.1 MB/s\u001b[0m eta \u001b[36m0:00:00\u001b[0m\n",
            "\u001b[?25h  Installing build dependencies ... \u001b[?25l\u001b[?25hdone\n",
            "  Getting requirements to build wheel ... \u001b[?25l\u001b[?25hdone\n",
            "  Preparing metadata (pyproject.toml) ... \u001b[?25l\u001b[?25hdone\n",
            "Collecting pytools>=2011.2 (from pycuda)\n",
            "  Downloading pytools-2025.2.4-py3-none-any.whl.metadata (2.9 kB)\n",
            "Requirement already satisfied: platformdirs>=2.2.0 in /usr/local/lib/python3.12/dist-packages (from pycuda) (4.4.0)\n",
            "Requirement already satisfied: mako in /usr/local/lib/python3.12/dist-packages (from pycuda) (1.3.10)\n",
            "Collecting siphash24>=1.6 (from pytools>=2011.2->pycuda)\n",
            "  Downloading siphash24-1.8-cp312-cp312-manylinux2014_x86_64.manylinux_2_17_x86_64.manylinux_2_28_x86_64.whl.metadata (3.2 kB)\n",
            "Requirement already satisfied: typing-extensions>=4.5 in /usr/local/lib/python3.12/dist-packages (from pytools>=2011.2->pycuda) (4.15.0)\n",
            "Requirement already satisfied: MarkupSafe>=0.9.2 in /usr/local/lib/python3.12/dist-packages (from mako->pycuda) (3.0.2)\n",
            "Downloading pytools-2025.2.4-py3-none-any.whl (99 kB)\n",
            "\u001b[2K   \u001b[90m━━━━━━━━━━━━━━━━━━━━━━━━━━━━━━━━━━━━━━━━\u001b[0m \u001b[32m99.4/99.4 kB\u001b[0m \u001b[31m9.9 MB/s\u001b[0m eta \u001b[36m0:00:00\u001b[0m\n",
            "\u001b[?25hDownloading siphash24-1.8-cp312-cp312-manylinux2014_x86_64.manylinux_2_17_x86_64.manylinux_2_28_x86_64.whl (103 kB)\n",
            "\u001b[2K   \u001b[90m━━━━━━━━━━━━━━━━━━━━━━━━━━━━━━━━━━━━━━━━\u001b[0m \u001b[32m103.2/103.2 kB\u001b[0m \u001b[31m9.9 MB/s\u001b[0m eta \u001b[36m0:00:00\u001b[0m\n",
            "\u001b[?25hBuilding wheels for collected packages: pycuda\n",
            "  Building wheel for pycuda (pyproject.toml) ... \u001b[?25l\u001b[?25hdone\n",
            "  Created wheel for pycuda: filename=pycuda-2025.1.2-cp312-cp312-linux_x86_64.whl size=659050 sha256=27faf1b4d2209fcaf786e2d7790280ee641bc6d06945c8d9f8bcee8d677fb694\n",
            "  Stored in directory: /root/.cache/pip/wheels/d5/36/f3/ac5f09d768cad3fa15d5a3449bdfe65c3de58e69d036c73228\n",
            "Successfully built pycuda\n",
            "Installing collected packages: siphash24, pytools, pycuda\n",
            "Successfully installed pycuda-2025.1.2 pytools-2025.2.4 siphash24-1.8\n"
          ]
        }
      ]
    },
    {
      "cell_type": "code",
      "source": [
        "import pycuda.driver as drv\n",
        "import pycuda.autoinit\n",
        "from   pycuda.compiler import SourceModule"
      ],
      "metadata": {
        "id": "qByNp-bQMrGQ"
      },
      "execution_count": null,
      "outputs": []
    }
  ]
}